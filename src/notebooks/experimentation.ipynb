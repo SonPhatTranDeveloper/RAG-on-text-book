{
 "cells": [
  {
   "cell_type": "markdown",
   "id": "503f6475",
   "metadata": {},
   "source": [
    "# Experimentation with LlamaIndex"
   ]
  },
  {
   "cell_type": "code",
   "execution_count": 4,
   "id": "bca528d6",
   "metadata": {},
   "outputs": [
    {
     "data": {
      "text/plain": [
       "True"
      ]
     },
     "execution_count": 4,
     "metadata": {},
     "output_type": "execute_result"
    }
   ],
   "source": [
    "# Export OpenAI Key\n",
    "from dotenv import load_dotenv\n",
    "\n",
    "load_dotenv()"
   ]
  },
  {
   "cell_type": "code",
   "execution_count": null,
   "id": "9e9ab5ff",
   "metadata": {},
   "outputs": [],
   "source": [
    "from pathlib import Path\n",
    "from llama_index.readers.file import PagedCSVReader\n",
    "\n",
    "# Loading the document using CSV reader\n",
    "reader = PagedCSVReader()\n",
    "documents = reader.load_data(file=Path(\"../data/job_descriptions.csv\"))"
   ]
  },
  {
   "cell_type": "code",
   "execution_count": 6,
   "id": "1955bab8",
   "metadata": {},
   "outputs": [
    {
     "name": "stderr",
     "output_type": "stream",
     "text": [
      "/Users/user/Desktop/Python/rag-job-posting/.venv/lib/python3.13/site-packages/tqdm/auto.py:21: TqdmWarning: IProgress not found. Please update jupyter and ipywidgets. See https://ipywidgets.readthedocs.io/en/stable/user_install.html\n",
      "  from .autonotebook import tqdm as notebook_tqdm\n",
      "Parsing nodes: 100%|██████████| 3101/3101 [00:02<00:00, 1265.08it/s]\n",
      "Generating embeddings: 100%|██████████| 2048/2048 [00:49<00:00, 41.19it/s]\n",
      "Generating embeddings: 100%|██████████| 2048/2048 [01:14<00:00, 27.36it/s]\n",
      "Generating embeddings: 100%|██████████| 888/888 [00:28<00:00, 31.04it/s]\n"
     ]
    }
   ],
   "source": [
    "from llama_index.core import VectorStoreIndex\n",
    "\n",
    "# Create index from documents\n",
    "index = VectorStoreIndex.from_documents(documents, show_progress=True)"
   ]
  },
  {
   "cell_type": "code",
   "execution_count": 15,
   "id": "5e0baebe",
   "metadata": {},
   "outputs": [
    {
     "name": "stdout",
     "output_type": "stream",
     "text": [
      "List of jobs in FPT:\n",
      "1. C/C++ Developer in Hồ Chí Minh\n",
      "2. QA Engineer in Hà Nội\n"
     ]
    }
   ],
   "source": [
    "# Ask a question\n",
    "query_engine = index.as_query_engine()\n",
    "response = query_engine.query(\"List jobs in FPT?\")\n",
    "print(response)"
   ]
  }
 ],
 "metadata": {
  "kernelspec": {
   "display_name": "rag-job-posting",
   "language": "python",
   "name": "python3"
  },
  "language_info": {
   "codemirror_mode": {
    "name": "ipython",
    "version": 3
   },
   "file_extension": ".py",
   "mimetype": "text/x-python",
   "name": "python",
   "nbconvert_exporter": "python",
   "pygments_lexer": "ipython3",
   "version": "3.13.3"
  }
 },
 "nbformat": 4,
 "nbformat_minor": 5
}
