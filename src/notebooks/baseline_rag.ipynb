{
 "cells": [
  {
   "cell_type": "code",
   "execution_count": 10,
   "id": "df75cfe1",
   "metadata": {},
   "outputs": [],
   "source": [
    "from llama_index.core import (\n",
    "    VectorStoreIndex,\n",
    "    SimpleDirectoryReader,\n",
    "    StorageContext,\n",
    "    load_index_from_storage,\n",
    ")\n",
    "from dotenv import load_dotenv\n",
    "import os"
   ]
  },
  {
   "cell_type": "code",
   "execution_count": 8,
   "id": "8bfe1190",
   "metadata": {},
   "outputs": [
    {
     "data": {
      "text/plain": [
       "True"
      ]
     },
     "execution_count": 8,
     "metadata": {},
     "output_type": "execute_result"
    }
   ],
   "source": [
    "# Load environment variables\n",
    "load_dotenv()"
   ]
  },
  {
   "cell_type": "code",
   "execution_count": 15,
   "id": "b8314777",
   "metadata": {},
   "outputs": [
    {
     "name": "stdout",
     "output_type": "stream",
     "text": [
      "Creating new index...\n"
     ]
    }
   ],
   "source": [
    "# Define storage directory\n",
    "storage_dir = \"../.index_storage\"\n",
    "\n",
    "# Check if index already exists\n",
    "if os.path.exists(storage_dir):\n",
    "    print(\"Loading existing index...\")\n",
    "    storage_context = StorageContext.from_defaults(persist_dir=storage_dir)\n",
    "    index = load_index_from_storage(storage_context)\n",
    "else:\n",
    "    print(\"Creating new index...\")\n",
    "    documents = SimpleDirectoryReader(\"../data\").load_data()\n",
    "    index = VectorStoreIndex.from_documents(documents)\n",
    "    index.storage_context.persist(persist_dir=storage_dir)"
   ]
  },
  {
   "cell_type": "code",
   "execution_count": 16,
   "id": "f73b0f7a",
   "metadata": {},
   "outputs": [],
   "source": [
    "# Create a query engine\n",
    "query_engine = index.as_query_engine()"
   ]
  },
  {
   "cell_type": "code",
   "execution_count": 34,
   "id": "3ef1d655",
   "metadata": {},
   "outputs": [
    {
     "data": {
      "text/plain": [
       "Response(response='C. Rìu tay núi Đọ (Thanh Hóa).', source_nodes=[NodeWithScore(node=TextNode(id_='b63cc6f0-1915-40c3-b3f5-eb01bfd68288', embedding=None, metadata={'file_path': '/Users/user/Desktop/Python/rag-book/src/notebooks/../data/grade_11_canh_dieu_lich_su.md', 'file_name': 'grade_11_canh_dieu_lich_su.md', 'file_type': 'text/markdown', 'file_size': 234939, 'creation_date': '2025-07-06', 'last_modified_date': '2025-07-05'}, excluded_embed_metadata_keys=['file_name', 'file_type', 'file_size', 'creation_date', 'last_modified_date', 'last_accessed_date'], excluded_llm_metadata_keys=['file_name', 'file_type', 'file_size', 'creation_date', 'last_modified_date', 'last_accessed_date'], relationships={<NodeRelationship.SOURCE: '1'>: RelatedNodeInfo(node_id='b012a3f9-49c1-4f17-94e8-42d74594eab9', node_type='4', metadata={'file_path': '/Users/user/Desktop/Python/rag-book/src/notebooks/../data/grade_11_canh_dieu_lich_su.md', 'file_name': 'grade_11_canh_dieu_lich_su.md', 'file_type': 'text/markdown', 'file_size': 234939, 'creation_date': '2025-07-06', 'last_modified_date': '2025-07-05'}, hash='c9e15c897963cf15e99ae089aae75cefbff085e1a151d2d00ec16ef6890b0f45'), <NodeRelationship.PREVIOUS: '2'>: RelatedNodeInfo(node_id='e587bf07-ad6d-4564-84f3-4115e5aca061', node_type='1', metadata={'file_path': '/Users/user/Desktop/Python/rag-book/src/notebooks/../data/grade_11_canh_dieu_lich_su.md', 'file_name': 'grade_11_canh_dieu_lich_su.md', 'file_type': 'text/markdown', 'file_size': 234939, 'creation_date': '2025-07-06', 'last_modified_date': '2025-07-05'}, hash='19d343e9d3a2004118dc08fa3d32425222dd6f5ce012be9c255b5febf5908856'), <NodeRelationship.NEXT: '3'>: RelatedNodeInfo(node_id='810be00e-cad3-4a8e-8cac-9e7c5f1a8a98', node_type='1', metadata={}, hash='956eace68d57abac6ccd19b95f6d7ebe99f1903112e8a2ec5f2f5ece29941b74')}, metadata_template='{key}: {value}', metadata_separator='\\n', text='Nội dung, kết quả và ý nghĩa ra sao?\\n\\n1. Bối cảnh lịch sử\\n\\nVề chính trị, từ năm 1358, sau khi Thượng hoàng Trần Minh Tông qua đời, triều Trần nhanh chóng khủng hoảng, suy yếu. Vua Trần Dụ Tông ngày càng sa vào ăn chơi, hưởng lạc. Triều chính bị gian thần lũng đoạn. Việc nước không còn được quan tâm. Tầng lớp quý tộc Trần cũng suy thoái, không còn giữ kỉ cương, phép nước.\\n\\nỞ phía nam, từ nửa sau thế kỉ XIV, Chiêm Thành liên tục đưa quân tấn công Đại Việt. Ở phía bắc, từ sau khi thành lập, nhà Minh thường xuyên yêu cầu Đại Việt cống nộp thầy thuốc, giống cây, lương thực, voi, ngựa,... Quan hệ giữa Đại Việt và nhà Minh ngày càng xấu đi.\\n\\nVề kinh tế - xã hội, từ những năm 40 của thế kỉ XIV, các hiện tượng hạn hán, bão, lụt, vỡ đê,... xảy ra ở nhiều địa phương trên cả nước. Mất mùa, đói kém diễn ra thường xuyên. Ở các làng xã, tình trạng che giấu, gian dối về ruộng đất và dân đinh trở nên phổ biến. Quý tộc, quan lại, địa chủ tìm cách chiếm đoạt ruộng đất trên quy mô lớn. Ruộng đất công ngày càng bị thu hẹp.\\n\\nCũng từ những năm 40 của thế kỉ XIV, các cuộc khởi nghĩa của nông dân và nô tì diễn ra liên tục ở nhiều vùng miền. Tiêu biểu như cuộc khởi nghĩa của Ngô Bệ ở Hải Dương và các vùng lân cận (1344 - 1360), cuộc khởi nghĩa của nhà sư Phạm Sư Ôn ở Quốc Oai (1390),...\\n== 65 ==', mimetype='text/plain', start_char_idx=115064, end_char_idx=116354, metadata_seperator='\\n', text_template='{metadata_str}\\n\\n{content}'), score=0.8703612118230718), NodeWithScore(node=TextNode(id_='b4810cf9-ed31-4ce7-95e9-c49d0a3b11c2', embedding=None, metadata={'file_path': '/Users/user/Desktop/Python/rag-book/src/notebooks/../data/grade_11_chan_troi_sang_tao_lich_su.md', 'file_name': 'grade_11_chan_troi_sang_tao_lich_su.md', 'file_type': 'text/markdown', 'file_size': 246016, 'creation_date': '2025-07-06', 'last_modified_date': '2025-07-05'}, excluded_embed_metadata_keys=['file_name', 'file_type', 'file_size', 'creation_date', 'last_modified_date', 'last_accessed_date'], excluded_llm_metadata_keys=['file_name', 'file_type', 'file_size', 'creation_date', 'last_modified_date', 'last_accessed_date'], relationships={<NodeRelationship.SOURCE: '1'>: RelatedNodeInfo(node_id='de99b973-58c9-4ca2-a909-f7b88aa1add7', node_type='4', metadata={'file_path': '/Users/user/Desktop/Python/rag-book/src/notebooks/../data/grade_11_chan_troi_sang_tao_lich_su.md', 'file_name': 'grade_11_chan_troi_sang_tao_lich_su.md', 'file_type': 'text/markdown', 'file_size': 246016, 'creation_date': '2025-07-06', 'last_modified_date': '2025-07-05'}, hash='c9188093e7a4fe4f29a853026b429803897335c53f8ef7faf2e1c7d3cd9de8fe'), <NodeRelationship.PREVIOUS: '2'>: RelatedNodeInfo(node_id='d849f5e2-76e6-4618-9843-532708800713', node_type='1', metadata={'file_path': '/Users/user/Desktop/Python/rag-book/src/notebooks/../data/grade_11_chan_troi_sang_tao_lich_su.md', 'file_name': 'grade_11_chan_troi_sang_tao_lich_su.md', 'file_type': 'text/markdown', 'file_size': 246016, 'creation_date': '2025-07-06', 'last_modified_date': '2025-07-05'}, hash='ae1035ab33806ff4e99830b76fd315bde71306ac863d9c5621ced8718a4fc9eb'), <NodeRelationship.NEXT: '3'>: RelatedNodeInfo(node_id='7239f70e-11d0-40fd-92df-6d0a00f6f9c7', node_type='1', metadata={}, hash='b4cc26c98e2a3a238b2568e2b5d30920f9174eb577e8c8edad82baf3501ab190')}, metadata_template='{key}: {value}', metadata_separator='\\n', text='Nêu các bài học lịch sử được rút ra từ các cuộc khởi nghĩa và chiến tranh giải phóng trong lịch sử Việt Nam.\\n== 64 ==\\n\\n# Lắng nghe lịch sử\\n\\n\"Nhân dân bốn cõi một nhà, dựng cần trúc ngọn cờ phép phới\\nTướng sĩ một lòng phụ tử, hòa nước sông chén rượu ngọt ngào.\\nThề trận xuất kì, lấy yếu chống mạnh,\\nDùng quân mai phục, lấy ít địch nhiều.\\nTrọn hay:\\nĐem đại nghĩa để thắng hung tàn,\\nLấy chí nhân để thay cường bạo.\\n...\\nChẳng đánh mà người chịu khuất, ta đây mưu phạt tâm công\".\\n\\n(Trích Bình Ngô Đại Cáo của Nguyễn Trãi,\\nNgữ văn 10, tập 2, SGK, trang 36, 37)\\n\\nĐoạn trích từ tác phẩm Bình Ngô Đại Cáo của Nguyễn Trãi là sự tổng kết tài tình nghệ thuật quân sự trong khởi nghĩa Lam Sơn do Lê Lợi lãnh đạo. Đây là kết tinh độc đáo từ quá trình tiến hành chiến tranh nhân dân lâu dài, anh dũng của dân tộc và thực tiễn vận động hình thái chiến trường, thay đổi tương quan lực lượng của cuộc khởi nghĩa Lam Sơn. Những bài học về nghệ thuật quân sự này vẫn còn nguyên giá trị trong công cuộc bảo vệ Tổ quốc hiện nay.\\n\\n## LUYỆN TẬP\\n\\nHoàn thành bảng tóm tắt nội dung chính của các cuộc khởi nghĩa tiêu biểu trong thời kì Bắc thuộc theo gợi ý bên:\\n\\n| STT | CÁC CUỘC KHỞI NGHĨA TIÊU BIỂU | THỜI GIAN | NGƯỜI LÃNH ĐẠO | NHỮNG TRẬN ĐÁNH LỚN | KẾT QUẢ |\\n|-----|--------------------------------|-----------|----------------|---------------------|---------|\\n| 1   | Hai Bà Trưng                   | ?         | ?              | ?                   | ?       |\\n| 2   | Bà Triệu                       | ?         | ?              | ?                   | ?       |\\n| 3   | Lý Bí                          | ?         | ?              | ?                   | ?       |\\n| 4   | Triệu Quang Phục               | ?         | ?              | ?                   | ?       |\\n| 5   | Phùng Hưng                     | ?         | ?              | ?                   | ?       |\\n\\n## VẬN DỤNG\\n\\nSưu tầm các nguồn tài liệu sách, internet để giới thiệu với các bạn trong lớp về chiến thắng Chi Lăng – Xương Giang và chiến thắng Ngọc Hồi – Đống Đa.', mimetype='text/plain', start_char_idx=117230, end_char_idx=119243, metadata_seperator='\\n', text_template='{metadata_str}\\n\\n{content}'), score=0.870215138105565)], metadata={'b63cc6f0-1915-40c3-b3f5-eb01bfd68288': {'file_path': '/Users/user/Desktop/Python/rag-book/src/notebooks/../data/grade_11_canh_dieu_lich_su.md', 'file_name': 'grade_11_canh_dieu_lich_su.md', 'file_type': 'text/markdown', 'file_size': 234939, 'creation_date': '2025-07-06', 'last_modified_date': '2025-07-05'}, 'b4810cf9-ed31-4ce7-95e9-c49d0a3b11c2': {'file_path': '/Users/user/Desktop/Python/rag-book/src/notebooks/../data/grade_11_chan_troi_sang_tao_lich_su.md', 'file_name': 'grade_11_chan_troi_sang_tao_lich_su.md', 'file_type': 'text/markdown', 'file_size': 246016, 'creation_date': '2025-07-06', 'last_modified_date': '2025-07-05'}})"
      ]
     },
     "execution_count": 34,
     "metadata": {},
     "output_type": "execute_result"
    }
   ],
   "source": [
    "# Ask an example question\n",
    "query_engine.query(\n",
    "    \"\"\"Câu 14. Sử liệu nào sau đây không phải là sử liệu gốc?\n",
    "\n",
    "A. Châu bản triều Nguyễn.\n",
    "\n",
    "B. Sách Đại cương lịch sử Việt Nam.\n",
    "\n",
    "C. Rìu tay núi Đọ (Thanh Hóa).\n",
    "\n",
    "D. Trống đồng Đông Sơn.\"\"\"\n",
    ")"
   ]
  }
 ],
 "metadata": {
  "kernelspec": {
   "display_name": ".venv",
   "language": "python",
   "name": "python3"
  },
  "language_info": {
   "codemirror_mode": {
    "name": "ipython",
    "version": 3
   },
   "file_extension": ".py",
   "mimetype": "text/x-python",
   "name": "python",
   "nbconvert_exporter": "python",
   "pygments_lexer": "ipython3",
   "version": "3.13.3"
  }
 },
 "nbformat": 4,
 "nbformat_minor": 5
}
