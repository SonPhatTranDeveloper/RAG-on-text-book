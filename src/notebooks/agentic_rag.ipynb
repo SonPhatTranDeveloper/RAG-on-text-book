{
 "cells": [
  {
   "cell_type": "code",
   "execution_count": 15,
   "id": "9d766057",
   "metadata": {},
   "outputs": [],
   "source": [
    "from llama_index.core import (\n",
    "    VectorStoreIndex,\n",
    "    SimpleDirectoryReader,\n",
    "    StorageContext,\n",
    "    load_index_from_storage,\n",
    ")\n",
    "from llama_index.core.tools import QueryEngineTool\n",
    "from llama_index.core.query_engine import SubQuestionQueryEngine\n",
    "from llama_index.llms.openai import OpenAI\n",
    "import os\n",
    "from dotenv import load_dotenv"
   ]
  },
  {
   "cell_type": "code",
   "execution_count": 16,
   "id": "a2a29259",
   "metadata": {},
   "outputs": [
    {
     "data": {
      "text/plain": [
       "True"
      ]
     },
     "execution_count": 16,
     "metadata": {},
     "output_type": "execute_result"
    }
   ],
   "source": [
    "# Load environment variables\n",
    "load_dotenv()"
   ]
  },
  {
   "cell_type": "code",
   "execution_count": 3,
   "id": "652561b0",
   "metadata": {},
   "outputs": [
    {
     "name": "stdout",
     "output_type": "stream",
     "text": [
      "Loading existing index...\n",
      "Loading llama_index.core.storage.kvstore.simple_kvstore from ../.index_storage/docstore.json.\n",
      "Loading llama_index.core.storage.kvstore.simple_kvstore from ../.index_storage/index_store.json.\n"
     ]
    }
   ],
   "source": [
    "# Define storage directory\n",
    "storage_dir = \"../.index_storage\"\n",
    "\n",
    "# Check if index already exists\n",
    "if os.path.exists(storage_dir):\n",
    "    print(\"Loading existing index...\")\n",
    "    storage_context = StorageContext.from_defaults(persist_dir=storage_dir)\n",
    "    index = load_index_from_storage(storage_context)\n",
    "else:\n",
    "    print(\"Creating new index...\")\n",
    "    documents = SimpleDirectoryReader(\"../data\").load_data()\n",
    "    index = VectorStoreIndex.from_documents(documents)\n",
    "    index.storage_context.persist(persist_dir=storage_dir)"
   ]
  },
  {
   "cell_type": "code",
   "execution_count": 5,
   "id": "7f030818",
   "metadata": {},
   "outputs": [],
   "source": [
    "query_engine_tools = [\n",
    "    QueryEngineTool.from_defaults(\n",
    "        query_engine=index.as_query_engine(),\n",
    "        name=\"document_search\",\n",
    "        description=\"Luôn luôn sử dụng công cụ này để tìm kiếm thông tin trong sách giáo khoa cấp trung học phổ thông.\",\n",
    "    )\n",
    "]\n",
    "\n",
    "query_engine = SubQuestionQueryEngine.from_defaults(\n",
    "    query_engine_tools=query_engine_tools, llm=OpenAI(model=\"gpt-4o-mini\")\n",
    ")"
   ]
  },
  {
   "cell_type": "code",
   "execution_count": 18,
   "id": "cc1e89cc",
   "metadata": {},
   "outputs": [
    {
     "name": "stdout",
     "output_type": "stream",
     "text": [
      "Generated 3 sub questions.\n"
     ]
    },
    {
     "data": {
      "text/plain": [
       "Response(response='D. Thần thoại', source_nodes=[NodeWithScore(node=TextNode(id_='8ed3bda3-e0d7-4192-97c2-e0c4f2544d01', embedding=None, metadata={}, excluded_embed_metadata_keys=[], excluded_llm_metadata_keys=[], relationships={}, metadata_template='{key}: {value}', metadata_separator='\\n', text='Sub question: Truyện về các vị thần sáng tạo thế giới có thể được phân loại là thể loại nào trong sách giáo khoa?\\nResponse: Truyện về các vị thần sáng tạo thế giới có thể được phân loại là thể loại thần thoại trong sách giáo khoa.', mimetype='text/plain', start_char_idx=None, end_char_idx=None, metadata_seperator='\\n', text_template='{metadata_str}\\n\\n{content}'), score=None), NodeWithScore(node=TextNode(id_='99e0106d-480b-45fd-8bd1-a4945e3c6c6e', embedding=None, metadata={}, excluded_embed_metadata_keys=[], excluded_llm_metadata_keys=[], relationships={}, metadata_template='{key}: {value}', metadata_separator='\\n', text='Sub question: Có những ví dụ nào về truyện thần thoại liên quan đến các vị thần sáng tạo thế giới?\\nResponse: Có những ví dụ về truyện thần thoại liên quan đến các vị thần sáng tạo thế giới như thần Trụ Trời, thần Gió, thần Sét. Nhân vật chính trong thần thoại suy nguyên thường là các vị thần như trời đất, mặt trời, mặt trăng, sông biển, mưa, gió, sấm, sét và muôn loài. Những truyện này thường phản ánh vẻ đẹp của cuộc sống lao động, tín ngưỡng và văn hóa của từng cộng đồng thông qua kì tích của các anh hùng thần thoại và anh hùng văn hóa.', mimetype='text/plain', start_char_idx=None, end_char_idx=None, metadata_seperator='\\n', text_template='{metadata_str}\\n\\n{content}'), score=None), NodeWithScore(node=TextNode(id_='d208b5a4-50e0-44cc-b8d8-f9f895578a80', embedding=None, metadata={}, excluded_embed_metadata_keys=[], excluded_llm_metadata_keys=[], relationships={}, metadata_template='{key}: {value}', metadata_separator='\\n', text='Sub question: Các thể loại truyện khác nhau như truyền thuyết, cổ tích, truyện ngắn và thần thoại được định nghĩa như thế nào trong sách giáo khoa?\\nResponse: Các thể loại truyện khác nhau như truyền thuyết, cổ tích, truyện ngắn và thần thoại được định nghĩa dựa vào nội dung, cách kể chuyện và mục đích của từng loại truyện. Truyền thuyết thường kể về những câu chuyện vĩ đại, hùng tráng của dân tộc hoặc về các vị anh hùng, thần thánh. Cổ tích thường là những câu chuyện mang tính giáo dục, nhân văn, thường có yếu tố phép thuật hoặc kỳ bí. Truyện ngắn là dạng truyện tập trung vào một sự kiện, tình huống hoặc nhân vật chính, thường có cấu trúc ngắn gọn, súc tích. Thần thoại thường kể về các vị thần, linh hồn, sự kiện siêu nhiên và thường có yếu tố tôn giáo, huyền bí.', mimetype='text/plain', start_char_idx=None, end_char_idx=None, metadata_seperator='\\n', text_template='{metadata_str}\\n\\n{content}'), score=None), NodeWithScore(node=TextNode(id_='49cc3383-77e5-4ef9-9951-91b5b5847e25', embedding=None, metadata={'file_path': '/Users/user/Desktop/Python/rag-book/src/notebooks/../data/grade_10_ket_noi_tri_thuc_ngu_van_1.md', 'file_name': 'grade_10_ket_noi_tri_thuc_ngu_van_1.md', 'file_type': 'text/markdown', 'file_size': 459761, 'creation_date': '2025-07-06', 'last_modified_date': '2025-07-05'}, excluded_embed_metadata_keys=['file_name', 'file_type', 'file_size', 'creation_date', 'last_modified_date', 'last_accessed_date'], excluded_llm_metadata_keys=['file_name', 'file_type', 'file_size', 'creation_date', 'last_modified_date', 'last_accessed_date'], relationships={<NodeRelationship.SOURCE: '1'>: RelatedNodeInfo(node_id='7200ea92-9594-45e4-88d3-b5833921ee48', node_type='4', metadata={'file_path': '/Users/user/Desktop/Python/rag-book/src/notebooks/../data/grade_10_ket_noi_tri_thuc_ngu_van_1.md', 'file_name': 'grade_10_ket_noi_tri_thuc_ngu_van_1.md', 'file_type': 'text/markdown', 'file_size': 459761, 'creation_date': '2025-07-06', 'last_modified_date': '2025-07-05'}, hash='0bfb38c88de4a2dceddea1bd98f7a4c196f2c12a38683ebef131635022f5343c'), <NodeRelationship.PREVIOUS: '2'>: RelatedNodeInfo(node_id='7673db23-9b3f-41e0-aa88-70173b945281', node_type='1', metadata={'file_path': '/Users/user/Desktop/Python/rag-book/src/notebooks/../data/grade_10_ket_noi_tri_thuc_ngu_van_1.md', 'file_name': 'grade_10_ket_noi_tri_thuc_ngu_van_1.md', 'file_type': 'text/markdown', 'file_size': 459761, 'creation_date': '2025-07-06', 'last_modified_date': '2025-07-05'}, hash='e62810b2b04b92fef88fb70bdbe1296c0b3bc2a1bce0577ec337d7f77cdc87c1'), <NodeRelationship.NEXT: '3'>: RelatedNodeInfo(node_id='3dd2c210-9410-4292-8e9e-cf625046ffde', node_type='1', metadata={}, hash='fdd11fa477f3f525251451bd32020eb1b05b0055ba2e532a6790662fb60e2d5c')}, metadata_template='{key}: {value}', metadata_separator='\\n', text='Nhân vật chính của thần thoại suy nguyên là các vị thần sáng tạo thế giới: trời đất, mặt trời, mặt trăng, sông biển, mưa, gió, sấm, sét, muôn loài. Nhóm truyện thần thoại sáng tạo có nhân vật chính là các anh hùng thần thoại và anh hùng văn hóa. Kì tích của họ phản ánh vẻ đẹp riêng của cuộc sống lao động, tín ngưỡng và văn hóa của từng cộng đồng.\\n\\nTrả lời câu hỏi\\n\\n1. Xác định thời gian, không gian, nhân vật và sự kiện chính trong từng truyện kể.\\n\\n2. Hãy chỉ ra một số dấu hiệu giúp người đọc nhận biết ba truyện kể trên thuộc nhóm thần thoại suy nguyên.\\n\\n3. Trong cái nhìn của con người thời cổ đại, thần Trụ Trời, thần Gió, thần Sét có hình dạng và tính khí ra sao? Sự tưởng tượng về các vị thần ấy được hình thành trên cơ sở nào?\\n\\n4. Công việc của thần Trụ Trời, thần Sét và thần Gió là gì? Công việc đó được miêu tả như thế nào, nhằm mục đích gì?\\n\\n5. Hình tượng thần Trụ Trời, thần Sét và thần Gió phản ánh những quan niệm, nhận thức gì của người xưa về thế giới tự nhiên? Những khát vọng nào đã được họ gửi vào các hình tượng đó?\\n\\n6. Chỉ ra những đặc điểm nổi bật trong cách xây dựng nhân vật của chùm truyện. Từ đó, nhận xét về thái độ, tình cảm của người xưa đối với thế giới tự nhiên.\\n\\n7. Trong những điều làm nên vẻ đẹp \"một đi không trở lại\" của thần thoại, có niềm tin thiêng liêng về một thế giới mà ở đó vạn vật đều có linh hồn. Theo bạn, niềm tin ấy có còn sức hấp dẫn với con người hiện đại không? Vì sao?\\n\\nKết nối đọc - viết\\n\\nViết đoạn văn (khoảng 150 chữ) phân tích một chi tiết kì ảo trong một truyện thần thoại đã học hoặc tự đọc thêm.\\n\\n14\\n== 16 ==\\nVĂN BẢN 4\\n\\nTần Viên từ Phán sự lục\\n(Chuyện chức Phán sự đền Tần Viên)(*)\\n\\nNguyễn Dữ(1)\\n\\n• Bạn có thích đọc những truyện kể chứa đựng các yếu tố kì ảo không? Vì sao?\\n\\n• Trong cuộc sống hằng ngày, đôi khi chúng ta phải chứng kiến hoặc trải qua những sự việc ngang trái, bất công. Lúc đó, bạn cảm thấy như thế nào và mong muốn điều gì?', mimetype='text/plain', start_char_idx=24636, end_char_idx=26539, metadata_seperator='\\n', text_template='{metadata_str}\\n\\n{content}'), score=0.904206902246926), NodeWithScore(node=TextNode(id_='1e9048ee-20bc-4f55-aba4-07fdb6217533', embedding=None, metadata={'file_path': '/Users/user/Desktop/Python/rag-book/src/notebooks/../data/grade_10_chan_troi_sang_tao_ngu_van_1.md', 'file_name': 'grade_10_chan_troi_sang_tao_ngu_van_1.md', 'file_type': 'text/markdown', 'file_size': 394033, 'creation_date': '2025-07-06', 'last_modified_date': '2025-07-05'}, excluded_embed_metadata_keys=['file_name', 'file_type', 'file_size', 'creation_date', 'last_modified_date', 'last_accessed_date'], excluded_llm_metadata_keys=['file_name', 'file_type', 'file_size', 'creation_date', 'last_modified_date', 'last_accessed_date'], relationships={<NodeRelationship.SOURCE: '1'>: RelatedNodeInfo(node_id='d218e5bd-eb35-4b7a-b082-28d22f9c29ff', node_type='4', metadata={'file_path': '/Users/user/Desktop/Python/rag-book/src/notebooks/../data/grade_10_chan_troi_sang_tao_ngu_van_1.md', 'file_name': 'grade_10_chan_troi_sang_tao_ngu_van_1.md', 'file_type': 'text/markdown', 'file_size': 394033, 'creation_date': '2025-07-06', 'last_modified_date': '2025-07-05'}, hash='224694009e7dc5bd441e12bcba4359a3f85ad734ef246628400cf8a4952bc221'), <NodeRelationship.PREVIOUS: '2'>: RelatedNodeInfo(node_id='94d364c0-02cb-4794-9b93-bb151fada9e4', node_type='1', metadata={'file_path': '/Users/user/Desktop/Python/rag-book/src/notebooks/../data/grade_10_chan_troi_sang_tao_ngu_van_1.md', 'file_name': 'grade_10_chan_troi_sang_tao_ngu_van_1.md', 'file_type': 'text/markdown', 'file_size': 394033, 'creation_date': '2025-07-06', 'last_modified_date': '2025-07-05'}, hash='82b979fc824910e28c2c9346e538b20a3a85d5a3ac6016c5c78be7f0e4beeded'), <NodeRelationship.NEXT: '3'>: RelatedNodeInfo(node_id='1f7c2ee0-bc35-4a0c-aa4f-6d203f463cc2', node_type='1', metadata={}, hash='099b7522e811088615dc397b46864ab35bd2291a61e04f68e07a76a11787fc49')}, metadata_template='{key}: {value}', metadata_separator='\\n', text='Logo bao gồm một vòng tròn chứa hình ảnh của một cuốn sách mở và một mặt trời đang mọc phía trên. Bên dưới vòng tròn là dòng chữ \"Chân trời sáng tạo\" được viết bằng tiếng Việt. Toàn bộ logo được in màu xám nhạt trên nền trắng.\\n\\nỞ góc dưới bên trái của trang có số trang \"10\" được in trong một hình chữ nhật màu xanh nhạt.\\n\\nTrang này có vẻ là một trang bìa hoặc trang chia chương của một cuốn sách giáo khoa hoặc tài liệu giáo dục, với thông điệp \"Chân trời sáng tạo\" nhấn mạnh vào sự sáng tạo và kiến thức.\\n== 12 ==\\nBÀI 1: TẠO LẬP THẾ GIỚI (THẦN THOẠI)\\n\\nYÊU CẦU CẦN ĐẠT\\n\\n• Nhận biết và phân tích được một số yếu tố của truyện thần thoại như: không gian, thời gian, cốt truyện, nhân vật.\\n\\n• Biết nhận xét nội dung bao quát của văn bản truyện kể; biết phân tích các chi tiết tiêu biểu, nhân vật và mối quan hệ của chúng trong tính chỉnh thể của tác phẩm; biết liên hệ để thấy được một số điểm gần gũi về nội dung giữa các tác phẩm truyện kể thuộc hai nền văn hoá khác nhau.\\n\\n• Nhận biết và chỉnh sửa được các lỗi về mạch lạc, liên kết trong đoạn văn.\\n\\n• Viết được văn bản nghị luận đúng quy trình; phân tích, đánh giá chủ đề, những nét đặc sắc về hình thức nghệ thuật của một truyện kể.\\n\\n• Biết giới thiệu, đánh giá về nội dung và nghệ thuật của một truyện kể; nghe và nắm bắt được ý kiến, quan điểm của người nói; biết nhận xét, đánh giá về ý kiến, quan điểm đó.\\n\\n• Trân trọng trí tưởng tượng và di sản nghệ thuật của người xưa.\\n\\nTRI THỨC NGỮ VĂN\\n\\nThần thoại là một trong những thể loại truyện dân gian. Thần thoại kể về các vị thần, các nhân vật anh hùng, các nhân vật văn hoá; qua đó, phản ánh quan niệm của người thời cổ về nguồn gốc của thế giới và đời sống con người. So với các thể loại truyện kể dân gian khác, thần thoại có những đặc điểm riêng thể hiện qua các yếu tố không gian, thời gian, cốt truyện, nhân vật,...\\n\\nKhông gian trong thần thoại là không gian vũ trụ đang trong quá trình tạo lập, không xác định nơi chốn cụ thể. Thời gian trong thần thoại là thời gian cổ sơ, không xác định và mang tính vĩnh hằng.', mimetype='text/plain', start_char_idx=24075, end_char_idx=26096, metadata_seperator='\\n', text_template='{metadata_str}\\n\\n{content}'), score=0.8878260580010826), NodeWithScore(node=TextNode(id_='49cc3383-77e5-4ef9-9951-91b5b5847e25', embedding=None, metadata={'file_path': '/Users/user/Desktop/Python/rag-book/src/notebooks/../data/grade_10_ket_noi_tri_thuc_ngu_van_1.md', 'file_name': 'grade_10_ket_noi_tri_thuc_ngu_van_1.md', 'file_type': 'text/markdown', 'file_size': 459761, 'creation_date': '2025-07-06', 'last_modified_date': '2025-07-05'}, excluded_embed_metadata_keys=['file_name', 'file_type', 'file_size', 'creation_date', 'last_modified_date', 'last_accessed_date'], excluded_llm_metadata_keys=['file_name', 'file_type', 'file_size', 'creation_date', 'last_modified_date', 'last_accessed_date'], relationships={<NodeRelationship.SOURCE: '1'>: RelatedNodeInfo(node_id='7200ea92-9594-45e4-88d3-b5833921ee48', node_type='4', metadata={'file_path': '/Users/user/Desktop/Python/rag-book/src/notebooks/../data/grade_10_ket_noi_tri_thuc_ngu_van_1.md', 'file_name': 'grade_10_ket_noi_tri_thuc_ngu_van_1.md', 'file_type': 'text/markdown', 'file_size': 459761, 'creation_date': '2025-07-06', 'last_modified_date': '2025-07-05'}, hash='0bfb38c88de4a2dceddea1bd98f7a4c196f2c12a38683ebef131635022f5343c'), <NodeRelationship.PREVIOUS: '2'>: RelatedNodeInfo(node_id='7673db23-9b3f-41e0-aa88-70173b945281', node_type='1', metadata={'file_path': '/Users/user/Desktop/Python/rag-book/src/notebooks/../data/grade_10_ket_noi_tri_thuc_ngu_van_1.md', 'file_name': 'grade_10_ket_noi_tri_thuc_ngu_van_1.md', 'file_type': 'text/markdown', 'file_size': 459761, 'creation_date': '2025-07-06', 'last_modified_date': '2025-07-05'}, hash='e62810b2b04b92fef88fb70bdbe1296c0b3bc2a1bce0577ec337d7f77cdc87c1'), <NodeRelationship.NEXT: '3'>: RelatedNodeInfo(node_id='3dd2c210-9410-4292-8e9e-cf625046ffde', node_type='1', metadata={}, hash='fdd11fa477f3f525251451bd32020eb1b05b0055ba2e532a6790662fb60e2d5c')}, metadata_template='{key}: {value}', metadata_separator='\\n', text='Nhân vật chính của thần thoại suy nguyên là các vị thần sáng tạo thế giới: trời đất, mặt trời, mặt trăng, sông biển, mưa, gió, sấm, sét, muôn loài. Nhóm truyện thần thoại sáng tạo có nhân vật chính là các anh hùng thần thoại và anh hùng văn hóa. Kì tích của họ phản ánh vẻ đẹp riêng của cuộc sống lao động, tín ngưỡng và văn hóa của từng cộng đồng.\\n\\nTrả lời câu hỏi\\n\\n1. Xác định thời gian, không gian, nhân vật và sự kiện chính trong từng truyện kể.\\n\\n2. Hãy chỉ ra một số dấu hiệu giúp người đọc nhận biết ba truyện kể trên thuộc nhóm thần thoại suy nguyên.\\n\\n3. Trong cái nhìn của con người thời cổ đại, thần Trụ Trời, thần Gió, thần Sét có hình dạng và tính khí ra sao? Sự tưởng tượng về các vị thần ấy được hình thành trên cơ sở nào?\\n\\n4. Công việc của thần Trụ Trời, thần Sét và thần Gió là gì? Công việc đó được miêu tả như thế nào, nhằm mục đích gì?\\n\\n5. Hình tượng thần Trụ Trời, thần Sét và thần Gió phản ánh những quan niệm, nhận thức gì của người xưa về thế giới tự nhiên? Những khát vọng nào đã được họ gửi vào các hình tượng đó?\\n\\n6. Chỉ ra những đặc điểm nổi bật trong cách xây dựng nhân vật của chùm truyện. Từ đó, nhận xét về thái độ, tình cảm của người xưa đối với thế giới tự nhiên.\\n\\n7. Trong những điều làm nên vẻ đẹp \"một đi không trở lại\" của thần thoại, có niềm tin thiêng liêng về một thế giới mà ở đó vạn vật đều có linh hồn. Theo bạn, niềm tin ấy có còn sức hấp dẫn với con người hiện đại không? Vì sao?\\n\\nKết nối đọc - viết\\n\\nViết đoạn văn (khoảng 150 chữ) phân tích một chi tiết kì ảo trong một truyện thần thoại đã học hoặc tự đọc thêm.\\n\\n14\\n== 16 ==\\nVĂN BẢN 4\\n\\nTần Viên từ Phán sự lục\\n(Chuyện chức Phán sự đền Tần Viên)(*)\\n\\nNguyễn Dữ(1)\\n\\n• Bạn có thích đọc những truyện kể chứa đựng các yếu tố kì ảo không? Vì sao?\\n\\n• Trong cuộc sống hằng ngày, đôi khi chúng ta phải chứng kiến hoặc trải qua những sự việc ngang trái, bất công. Lúc đó, bạn cảm thấy như thế nào và mong muốn điều gì?', mimetype='text/plain', start_char_idx=24636, end_char_idx=26539, metadata_seperator='\\n', text_template='{metadata_str}\\n\\n{content}'), score=0.9032274664581431), NodeWithScore(node=TextNode(id_='1e9048ee-20bc-4f55-aba4-07fdb6217533', embedding=None, metadata={'file_path': '/Users/user/Desktop/Python/rag-book/src/notebooks/../data/grade_10_chan_troi_sang_tao_ngu_van_1.md', 'file_name': 'grade_10_chan_troi_sang_tao_ngu_van_1.md', 'file_type': 'text/markdown', 'file_size': 394033, 'creation_date': '2025-07-06', 'last_modified_date': '2025-07-05'}, excluded_embed_metadata_keys=['file_name', 'file_type', 'file_size', 'creation_date', 'last_modified_date', 'last_accessed_date'], excluded_llm_metadata_keys=['file_name', 'file_type', 'file_size', 'creation_date', 'last_modified_date', 'last_accessed_date'], relationships={<NodeRelationship.SOURCE: '1'>: RelatedNodeInfo(node_id='d218e5bd-eb35-4b7a-b082-28d22f9c29ff', node_type='4', metadata={'file_path': '/Users/user/Desktop/Python/rag-book/src/notebooks/../data/grade_10_chan_troi_sang_tao_ngu_van_1.md', 'file_name': 'grade_10_chan_troi_sang_tao_ngu_van_1.md', 'file_type': 'text/markdown', 'file_size': 394033, 'creation_date': '2025-07-06', 'last_modified_date': '2025-07-05'}, hash='224694009e7dc5bd441e12bcba4359a3f85ad734ef246628400cf8a4952bc221'), <NodeRelationship.PREVIOUS: '2'>: RelatedNodeInfo(node_id='94d364c0-02cb-4794-9b93-bb151fada9e4', node_type='1', metadata={'file_path': '/Users/user/Desktop/Python/rag-book/src/notebooks/../data/grade_10_chan_troi_sang_tao_ngu_van_1.md', 'file_name': 'grade_10_chan_troi_sang_tao_ngu_van_1.md', 'file_type': 'text/markdown', 'file_size': 394033, 'creation_date': '2025-07-06', 'last_modified_date': '2025-07-05'}, hash='82b979fc824910e28c2c9346e538b20a3a85d5a3ac6016c5c78be7f0e4beeded'), <NodeRelationship.NEXT: '3'>: RelatedNodeInfo(node_id='1f7c2ee0-bc35-4a0c-aa4f-6d203f463cc2', node_type='1', metadata={}, hash='099b7522e811088615dc397b46864ab35bd2291a61e04f68e07a76a11787fc49')}, metadata_template='{key}: {value}', metadata_separator='\\n', text='Logo bao gồm một vòng tròn chứa hình ảnh của một cuốn sách mở và một mặt trời đang mọc phía trên. Bên dưới vòng tròn là dòng chữ \"Chân trời sáng tạo\" được viết bằng tiếng Việt. Toàn bộ logo được in màu xám nhạt trên nền trắng.\\n\\nỞ góc dưới bên trái của trang có số trang \"10\" được in trong một hình chữ nhật màu xanh nhạt.\\n\\nTrang này có vẻ là một trang bìa hoặc trang chia chương của một cuốn sách giáo khoa hoặc tài liệu giáo dục, với thông điệp \"Chân trời sáng tạo\" nhấn mạnh vào sự sáng tạo và kiến thức.\\n== 12 ==\\nBÀI 1: TẠO LẬP THẾ GIỚI (THẦN THOẠI)\\n\\nYÊU CẦU CẦN ĐẠT\\n\\n• Nhận biết và phân tích được một số yếu tố của truyện thần thoại như: không gian, thời gian, cốt truyện, nhân vật.\\n\\n• Biết nhận xét nội dung bao quát của văn bản truyện kể; biết phân tích các chi tiết tiêu biểu, nhân vật và mối quan hệ của chúng trong tính chỉnh thể của tác phẩm; biết liên hệ để thấy được một số điểm gần gũi về nội dung giữa các tác phẩm truyện kể thuộc hai nền văn hoá khác nhau.\\n\\n• Nhận biết và chỉnh sửa được các lỗi về mạch lạc, liên kết trong đoạn văn.\\n\\n• Viết được văn bản nghị luận đúng quy trình; phân tích, đánh giá chủ đề, những nét đặc sắc về hình thức nghệ thuật của một truyện kể.\\n\\n• Biết giới thiệu, đánh giá về nội dung và nghệ thuật của một truyện kể; nghe và nắm bắt được ý kiến, quan điểm của người nói; biết nhận xét, đánh giá về ý kiến, quan điểm đó.\\n\\n• Trân trọng trí tưởng tượng và di sản nghệ thuật của người xưa.\\n\\nTRI THỨC NGỮ VĂN\\n\\nThần thoại là một trong những thể loại truyện dân gian. Thần thoại kể về các vị thần, các nhân vật anh hùng, các nhân vật văn hoá; qua đó, phản ánh quan niệm của người thời cổ về nguồn gốc của thế giới và đời sống con người. So với các thể loại truyện kể dân gian khác, thần thoại có những đặc điểm riêng thể hiện qua các yếu tố không gian, thời gian, cốt truyện, nhân vật,...\\n\\nKhông gian trong thần thoại là không gian vũ trụ đang trong quá trình tạo lập, không xác định nơi chốn cụ thể. Thời gian trong thần thoại là thời gian cổ sơ, không xác định và mang tính vĩnh hằng.', mimetype='text/plain', start_char_idx=24075, end_char_idx=26096, metadata_seperator='\\n', text_template='{metadata_str}\\n\\n{content}'), score=0.880869429032064), NodeWithScore(node=TextNode(id_='2fc8c6c6-2868-46f7-a091-07672cafa01c', embedding=None, metadata={'file_path': '/Users/user/Desktop/Python/rag-book/src/notebooks/../data/grade_12_chan_troi_sang_tao_ngu_van_2.md', 'file_name': 'grade_12_chan_troi_sang_tao_ngu_van_2.md', 'file_type': 'text/markdown', 'file_size': 389298, 'creation_date': '2025-07-06', 'last_modified_date': '2025-07-05'}, excluded_embed_metadata_keys=['file_name', 'file_type', 'file_size', 'creation_date', 'last_modified_date', 'last_accessed_date'], excluded_llm_metadata_keys=['file_name', 'file_type', 'file_size', 'creation_date', 'last_modified_date', 'last_accessed_date'], relationships={<NodeRelationship.SOURCE: '1'>: RelatedNodeInfo(node_id='2424d36e-82a4-437c-97a1-58c91d2297f2', node_type='4', metadata={'file_path': '/Users/user/Desktop/Python/rag-book/src/notebooks/../data/grade_12_chan_troi_sang_tao_ngu_van_2.md', 'file_name': 'grade_12_chan_troi_sang_tao_ngu_van_2.md', 'file_type': 'text/markdown', 'file_size': 389298, 'creation_date': '2025-07-06', 'last_modified_date': '2025-07-05'}, hash='0bfc9448c2d9382238d6bb211e67f63d025738e861104486d71e6a82c5dacfcd'), <NodeRelationship.PREVIOUS: '2'>: RelatedNodeInfo(node_id='7337aa5a-0bc5-4450-b737-b666d361e639', node_type='1', metadata={'file_path': '/Users/user/Desktop/Python/rag-book/src/notebooks/../data/grade_12_chan_troi_sang_tao_ngu_van_2.md', 'file_name': 'grade_12_chan_troi_sang_tao_ngu_van_2.md', 'file_type': 'text/markdown', 'file_size': 389298, 'creation_date': '2025-07-06', 'last_modified_date': '2025-07-05'}, hash='71a08c3c376afef53019c4217a424642b0a42347b6551d855072b35e5b740ed1'), <NodeRelationship.NEXT: '3'>: RelatedNodeInfo(node_id='cd56bdfb-496c-4b26-a7ce-0986a0b11d17', node_type='1', metadata={}, hash='cea9f491aecec8cca63b41f0a66a4fe486129c887be536ee14603d2be051a9ca')}, metadata_template='{key}: {value}', metadata_separator='\\n', text='Nhờ đó, văn học giai đoạn này đạt được những bước chuyển về thể loại. Bên cạnh những thành tựu quan trọng của các thể văn xuôi hư cấu như tiểu thuyết, truyện ngắn, các thể loại phi hư cấu như kí sự, phóng sự, hồi kí, tự truyện, các thể loại văn xuôi trữ tình như tuỳ bút, tản văn cũng đều khởi sắc và đạt được những thành tựu đáng ghi nhận.\\n\\n4. Nhìn chung, trong quá trình phát triển, cùng với tiếng nói của dân tộc, văn học Việt Nam luôn thể hiện rõ bản sắc dân tộc và mang một sức sống mãnh liệt. Dù là văn học dân gian hay văn học viết, văn học trung đại hay hiện đại, sáng tác bằng chữ Hán, chữ Nôm hay chữ Quốc ngữ,... văn học Việt Nam luôn chứa chan tình thân yêu nước và nhân đạo; có khả năng tiếp thu, chọn lọc ảnh hưởng của văn học, văn hoá nước ngoài; không ngừng Việt hoá một cách nhuần nhị các yếu tố ngoại lai từ nội dung tư tưởng đến hình thức nghệ thuật để tự làm mới, làm giàu cho mình.\\n\\nCâu hỏi\\n\\n1. Văn học dân gian Việt Nam gồm những thể loại chính nào? Nêu tên tác phẩm tiêu biểu cho mỗi thể loại đó.\\n\\n2.', mimetype='text/plain', start_char_idx=265498, end_char_idx=266521, metadata_seperator='\\n', text_template='{metadata_str}\\n\\n{content}'), score=0.8755989186279709), NodeWithScore(node=TextNode(id_='d9475371-c7e8-4c44-8081-c4546595490b', embedding=None, metadata={'file_path': '/Users/user/Desktop/Python/rag-book/src/notebooks/../data/grade_12_ket_noi_tri_thuc_ngu_van_1.md', 'file_name': 'grade_12_ket_noi_tri_thuc_ngu_van_1.md', 'file_type': 'text/markdown', 'file_size': 489850, 'creation_date': '2025-07-06', 'last_modified_date': '2025-07-05'}, excluded_embed_metadata_keys=['file_name', 'file_type', 'file_size', 'creation_date', 'last_modified_date', 'last_accessed_date'], excluded_llm_metadata_keys=['file_name', 'file_type', 'file_size', 'creation_date', 'last_modified_date', 'last_accessed_date'], relationships={<NodeRelationship.SOURCE: '1'>: RelatedNodeInfo(node_id='be272b63-de9a-4139-b15d-09989542bedb', node_type='4', metadata={'file_path': '/Users/user/Desktop/Python/rag-book/src/notebooks/../data/grade_12_ket_noi_tri_thuc_ngu_van_1.md', 'file_name': 'grade_12_ket_noi_tri_thuc_ngu_van_1.md', 'file_type': 'text/markdown', 'file_size': 489850, 'creation_date': '2025-07-06', 'last_modified_date': '2025-07-05'}, hash='4023f976ab7abc2c3aa068f1f076820de2a1c9c84264caf36342207f6d8a5516'), <NodeRelationship.PREVIOUS: '2'>: RelatedNodeInfo(node_id='1d2ed8e0-90ff-4b28-909e-3c0779914574', node_type='1', metadata={'file_path': '/Users/user/Desktop/Python/rag-book/src/notebooks/../data/grade_12_ket_noi_tri_thuc_ngu_van_1.md', 'file_name': 'grade_12_ket_noi_tri_thuc_ngu_van_1.md', 'file_type': 'text/markdown', 'file_size': 489850, 'creation_date': '2025-07-06', 'last_modified_date': '2025-07-05'}, hash='d2b675ab3e71a43057154f0451788caa84568710f3ca1a27aac59dacfe59ebd9'), <NodeRelationship.NEXT: '3'>: RelatedNodeInfo(node_id='6ba06ebf-cdfe-4547-8094-a6dbf5ea2d4c', node_type='1', metadata={}, hash='768d36acebf58fbb126aace14fc7833c7e04a56983eba4ab70f09af0d1eb1ad9')}, metadata_template='{key}: {value}', metadata_separator='\\n', text='Trong chín bài học của sách giáo khoa Ngữ văn lớp 12, có năm bài giúp các bạn tìm hiểu thêm một số đặc điểm quan trọng của những loại văn bản và thể loại văn học tiêu biểu đã quen thuộc: Bài 2 - Những thể giới thơ, Bài 3 - Lập luận trong văn bản nghị luận, Bài 4 - Yếu tố kì ảo của truyện kể, Bài 5 - Tiếng cười của hài kịch, Bài 8 - Dữ liệu trong văn bản thông tin. Riêng với những thể loại lần đầu được học chính thức như tiểu thuyết hiện đại, phóng sự, hồi kí, hai bài học có liên quan rất chú ý đưa tới cho các bạn\\n\\nHãy bảo quản, giữ gìn sách giáo khoa để dành tặng\\ncác em học sinh lớp sau.\\n== 5 ==\\nĐoàn văn Doanh - THPT Nam Trực - Nam Định\\n\\nmột cái nhìn tổng quan. Đó là các bài: 1 – Khả năng lớn lao của tiểu thuyết, 7 – Sự thật trong tác phẩm kí. Bài 6 – Hồ Chí Minh – \"Văn hóa phải soi đường cho quốc dân đi\" hướng dẫn các bạn khám phá những tác phẩm tiêu biểu cho thành tựu sáng tác của Hồ Chí Minh thuộc ba loại, thể loại chính: văn nghị luận, truyện – kí và thơ. Bài 9 – Văn học và cuộc đời gồm một cụm văn bản thuộc các thể loại khác nhau (thơ trữ tình, tiểu thuyết, kịch) chứa đựng những gợi mở quan trọng đối với việc hình thành thái độ ứng xử tích cực trước cuộc đời. Tất cả văn bản đọc trong sách giáo khoa Ngữ văn lớp 12 đều có thể được nhìn nhận như là điểm hội tụ của nhiều mối quan hệ thiết yếu trong cuộc sống. Do vậy, khi tìm hiểu, khám phá chúng, các bạn sẽ học được cách huy động hiệu quả những kiến thức lịch sử, văn hóa, xã hội, nghệ thuật,... từng tiếp nhận từ một số môn học khác. Những kiểu bài viết và nói dung nói, nghe được yêu cầu thực hiện trong sách này như viết và thuyết trình về một vấn đề liên quan đến tuổi trẻ, viết thư trao đổi công việc, viết bài phát biểu trong một buổi lễ phát động, viết và trình bày báo cáo kết quả thực hiện bài tập dự án,... đều là những kiểu bài, nội dung hoạt động thật sự thiết thực và mang tính ứng dụng cao, đưa người học đến với các cuộc tập dượt bổ ích.', mimetype='text/plain', start_char_idx=3371, end_char_idx=5297, metadata_seperator='\\n', text_template='{metadata_str}\\n\\n{content}'), score=0.8755634622918376)], metadata={'8ed3bda3-e0d7-4192-97c2-e0c4f2544d01': {}, '99e0106d-480b-45fd-8bd1-a4945e3c6c6e': {}, 'd208b5a4-50e0-44cc-b8d8-f9f895578a80': {}, '49cc3383-77e5-4ef9-9951-91b5b5847e25': {'file_path': '/Users/user/Desktop/Python/rag-book/src/notebooks/../data/grade_10_ket_noi_tri_thuc_ngu_van_1.md', 'file_name': 'grade_10_ket_noi_tri_thuc_ngu_van_1.md', 'file_type': 'text/markdown', 'file_size': 459761, 'creation_date': '2025-07-06', 'last_modified_date': '2025-07-05'}, '1e9048ee-20bc-4f55-aba4-07fdb6217533': {'file_path': '/Users/user/Desktop/Python/rag-book/src/notebooks/../data/grade_10_chan_troi_sang_tao_ngu_van_1.md', 'file_name': 'grade_10_chan_troi_sang_tao_ngu_van_1.md', 'file_type': 'text/markdown', 'file_size': 394033, 'creation_date': '2025-07-06', 'last_modified_date': '2025-07-05'}, '2fc8c6c6-2868-46f7-a091-07672cafa01c': {'file_path': '/Users/user/Desktop/Python/rag-book/src/notebooks/../data/grade_12_chan_troi_sang_tao_ngu_van_2.md', 'file_name': 'grade_12_chan_troi_sang_tao_ngu_van_2.md', 'file_type': 'text/markdown', 'file_size': 389298, 'creation_date': '2025-07-06', 'last_modified_date': '2025-07-05'}, 'd9475371-c7e8-4c44-8081-c4546595490b': {'file_path': '/Users/user/Desktop/Python/rag-book/src/notebooks/../data/grade_12_ket_noi_tri_thuc_ngu_van_1.md', 'file_name': 'grade_12_ket_noi_tri_thuc_ngu_van_1.md', 'file_type': 'text/markdown', 'file_size': 489850, 'creation_date': '2025-07-06', 'last_modified_date': '2025-07-05'}})"
      ]
     },
     "execution_count": 18,
     "metadata": {},
     "output_type": "execute_result"
    }
   ],
   "source": [
    "query_engine.query(\n",
    "    \"\"\"\n",
    "Câu 2. Truyện về các vị thần sáng tạo thế giới thuộc thể loại nào?\n",
    "\n",
    "A. Truyền thuyết\n",
    "\n",
    "B. Cổ tích\n",
    "\n",
    "C. Truyện ngắn\n",
    "\n",
    "D. Thần thoại\n",
    "    \"\"\"\n",
    ")"
   ]
  },
  {
   "cell_type": "code",
   "execution_count": null,
   "id": "fc6e5454",
   "metadata": {},
   "outputs": [],
   "source": []
  }
 ],
 "metadata": {
  "kernelspec": {
   "display_name": ".venv",
   "language": "python",
   "name": "python3"
  },
  "language_info": {
   "codemirror_mode": {
    "name": "ipython",
    "version": 3
   },
   "file_extension": ".py",
   "mimetype": "text/x-python",
   "name": "python",
   "nbconvert_exporter": "python",
   "pygments_lexer": "ipython3",
   "version": "3.13.3"
  }
 },
 "nbformat": 4,
 "nbformat_minor": 5
}
