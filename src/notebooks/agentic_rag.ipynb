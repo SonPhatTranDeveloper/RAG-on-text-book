{
 "cells": [
  {
   "cell_type": "code",
   "execution_count": 67,
   "id": "9d766057",
   "metadata": {},
   "outputs": [],
   "source": [
    "from llama_index.core import (\n",
    "    VectorStoreIndex,\n",
    "    SimpleDirectoryReader,\n",
    "    StorageContext,\n",
    "    load_index_from_storage,\n",
    ")\n",
    "from llama_index.core.tools import QueryEngineTool, FunctionTool\n",
    "from llama_index.core.query_engine import SubQuestionQueryEngine\n",
    "from llama_index.core.agent import ReActAgent\n",
    "from llama_index.llms.openai import OpenAI\n",
    "import asyncio\n",
    "import os\n",
    "from dotenv import load_dotenv"
   ]
  },
  {
   "cell_type": "code",
   "execution_count": 19,
   "id": "a2a29259",
   "metadata": {},
   "outputs": [
    {
     "data": {
      "text/plain": [
       "True"
      ]
     },
     "execution_count": 19,
     "metadata": {},
     "output_type": "execute_result"
    }
   ],
   "source": [
    "# Load environment variables\n",
    "load_dotenv()"
   ]
  },
  {
   "cell_type": "code",
   "execution_count": 20,
   "id": "652561b0",
   "metadata": {},
   "outputs": [
    {
     "name": "stdout",
     "output_type": "stream",
     "text": [
      "Loading existing index...\n",
      "Loading llama_index.core.storage.kvstore.simple_kvstore from ../.index_storage/docstore.json.\n",
      "Loading llama_index.core.storage.kvstore.simple_kvstore from ../.index_storage/index_store.json.\n"
     ]
    },
    {
     "name": "stderr",
     "output_type": "stream",
     "text": [
      "/Users/user/Desktop/Python/rag-book/.venv/lib/python3.13/site-packages/typing_inspect.py:221: RuntimeWarning: coroutine 'main' was never awaited\n",
      "  def is_union_type(tp):\n",
      "RuntimeWarning: Enable tracemalloc to get the object allocation traceback\n"
     ]
    }
   ],
   "source": [
    "# Define storage directory\n",
    "storage_dir = \"../.index_storage\"\n",
    "\n",
    "# Check if index already exists\n",
    "if os.path.exists(storage_dir):\n",
    "    print(\"Loading existing index...\")\n",
    "    storage_context = StorageContext.from_defaults(persist_dir=storage_dir)\n",
    "    index = load_index_from_storage(storage_context)\n",
    "else:\n",
    "    print(\"Creating new index...\")\n",
    "    documents = SimpleDirectoryReader(\"../data\").load_data()\n",
    "    index = VectorStoreIndex.from_documents(documents)\n",
    "    index.storage_context.persist(persist_dir=storage_dir)"
   ]
  },
  {
   "cell_type": "code",
   "execution_count": 79,
   "id": "7f030818",
   "metadata": {},
   "outputs": [],
   "source": [
    "query_engine_tools = [\n",
    "    QueryEngineTool.from_defaults(\n",
    "        query_engine=index.as_query_engine(),\n",
    "        name=\"document_search\",\n",
    "        description=\"Luôn luôn sử dụng công cụ này để tìm kiếm thông tin trong sách giáo khoa cấp trung học phổ thông.\",\n",
    "    )\n",
    "]\n",
    "\n",
    "query_engine = SubQuestionQueryEngine.from_defaults(\n",
    "    query_engine_tools=query_engine_tools,\n",
    "    llm=OpenAI(model=\"gpt-4o-mini\")\n",
    ")"
   ]
  },
  {
   "cell_type": "code",
   "execution_count": 74,
   "id": "c61167a9",
   "metadata": {},
   "outputs": [],
   "source": [
    "# Create the ReActAgent with the defined tools\n",
    "agent = ReActAgent.from_tools(\n",
    "    query_engine_tools,\n",
    "    llm=OpenAI(model=\"gpt-4o-mini\"),\n",
    "    verbose=True,  # Set to True to see the agent's thought process (reasoning, tool calls),\n",
    "    system_prompt=\n",
    "    \"\"\"\n",
    "    Bạn là một Trợ lý Trích xuất và Tạo sinh (RAG) chuyên nghiệp, có nhiệm vụ cung cấp câu trả lời chính xác và đầy đủ cho các câu hỏi của người dùng, chỉ dựa trên thông tin được trích xuất từ các sách giáo khoa cấp trung học phổ thông.\n",
    "    Hướng dẫn hoạt động:\n",
    "    - Suy nghĩ: Luôn luôn suy nghĩ bằng tiếng Việt và trình bày rõ ràng quá trình suy nghĩ của bạn trước khi đưa ra câu trả lời cuối cùng.\n",
    "    - Nguồn thông tin duy nhất: Mọi câu trả lời của bạn phải LUÔN LUÔN dựa vào các đoạn văn bản được trích xuất từ sách giáo khoa cấp trung học phổ thông đã được cung cấp. Tuyệt đối không sử dụng kiến thức tổng quát, thông tin bên ngoài, hoặc suy diễn cá nhân.\n",
    "    - Độ chính xác và khách quan: Đảm bảo tính chính xác và khách quan của thông tin. Tránh thêm thắt, phóng đại, hoặc đưa ra ý kiến chủ quan.\n",
    "    - Rõ ràng và súc tích: Trình bày câu trả lời một cách rõ ràng, súc tích, dễ hiểu và phù hợp với cấp độ kiến thức của học sinh trung học phổ thông.\n",
    "    - Xử lý thông tin không có sẵn: Nếu bạn không tìm thấy thông tin cần thiết để trả lời câu hỏi trong các tài liệu được cung cấp, hãy thông báo rõ ràng rằng: \"Tôi không tìm thấy thông tin này trong các sách giáo khoa cấp trung học phổ thông được cung cấp.\"\n",
    "    - Ngôn ngữ: Luôn sử dụng tiếng Việt chuẩn và ngữ pháp chính xác.\n",
    "    \"\"\",\n",
    ")"
   ]
  },
  {
   "cell_type": "code",
   "execution_count": 75,
   "id": "68bb6b89",
   "metadata": {},
   "outputs": [
    {
     "name": "stdout",
     "output_type": "stream",
     "text": [
      "> Running step 27f64afc-66df-4a6e-8aa8-07828b53d790. Step input: \n",
      "    Cuộc Cách mạng công nghiệp lần thứ tư được bắt đầu từ thời gian nào?\n",
      "\n",
      "A. Từ những năm đầu thế kỉ XXI.\n",
      "\n",
      "B. Từ những năm đầu thế kỉ XX.\n",
      "\n",
      "C. Từ những năm cuối thế kỉ XX.\n",
      "\n",
      "D. Từ những năm đầu thế kỉ XIX.\n",
      "    \n",
      "\u001b[1;3;38;5;200mThought: The current language of the user is: Vietnamese. I need to use a tool to help me answer the question.\n",
      "Action: document_search\n",
      "Action Input: {'input': 'Cuộc Cách mạng công nghiệp lần thứ tư bắt đầu từ thời gian nào?'}\n",
      "\u001b[0m\u001b[1;3;34mObservation: Cuộc Cách mạng công nghiệp lần thứ tư bắt đầu từ những năm đầu tiên của thế kỉ XXI.\n",
      "\u001b[0m> Running step d65ec6d2-b36a-42a2-b4b3-8f0616bf276f. Step input: None\n",
      "\u001b[1;3;38;5;200mThought: I can answer without using any more tools. I'll use the user's language to answer.\n",
      "Answer: A. Từ những năm đầu thế kỉ XXI.\n",
      "\u001b[0mA. Từ những năm đầu thế kỉ XXI.\n"
     ]
    }
   ],
   "source": [
    "# Now we can ask questions about the documents or do calculations\n",
    "response = agent.chat(\n",
    "    \"\"\"\n",
    "    Cuộc Cách mạng công nghiệp lần thứ tư được bắt đầu từ thời gian nào?\n",
    "\n",
    "A. Từ những năm đầu thế kỉ XXI.\n",
    "\n",
    "B. Từ những năm đầu thế kỉ XX.\n",
    "\n",
    "C. Từ những năm cuối thế kỉ XX.\n",
    "\n",
    "D. Từ những năm đầu thế kỉ XIX.\n",
    "    \"\"\"\n",
    ")\n",
    "print(response)"
   ]
  },
  {
   "cell_type": "code",
   "execution_count": null,
   "id": "cc1e89cc",
   "metadata": {},
   "outputs": [
    {
     "name": "stdout",
     "output_type": "stream",
     "text": [
      "Generated 3 sub questions.\n",
      "\u001b[1;3;38;2;237;90;200m[document_search] Q: Cuộc cách mạng công nghiệp hiện đại đã dẫn đến sự phân hóa trong lực lượng lao động như thế nào?\n",
      "\u001b[0m\u001b[1;3;38;2;90;149;237m[document_search] Q: Có những nghiên cứu nào chỉ ra rằng cuộc cách mạng công nghiệp hiện đại khiến nhiều người lao động đối diện với nguy cơ mất việc làm?\n",
      "\u001b[0m\u001b[1;3;38;2;11;159;203m[document_search] Q: Cuộc cách mạng công nghiệp hiện đại đã làm gia tăng sự xung đột giữa văn hóa truyền thống và hiện đại ra sao?\n",
      "\u001b[0m\u001b[1;3;38;2;90;149;237m[document_search] A: Có những nghiên cứu chỉ ra rằng cuộc cách mạng công nghiệp hiện đại khiến nhiều người lao động đối diện với nguy cơ mất việc làm do sự tự động hoá giúp giải phóng sức lao động của con người, đặc biệt trong những công việc nguy hiểm, trong môi trường độc hại.\n",
      "\u001b[0m\u001b[1;3;38;2;237;90;200m[document_search] A: Cuộc cách mạng công nghiệp hiện đại đã dẫn đến sự phân hóa trong lực lượng lao động bằng cách tăng số lượng người lao động có kỹ năng và trình độ chuyên môn cao, đồng thời giảm dần số lượng người lao động phổ thông.\n",
      "\u001b[0m\u001b[1;3;38;2;11;159;203m[document_search] A: Cuộc cách mạng công nghiệp hiện đại đã tạo ra sự xung đột giữa văn hóa truyền thống và hiện đại bằng cách thúc đẩy sự đa dạng văn hóa trên phạm vi toàn cầu. Điều này đã góp phần vào việc thay đổi lối sống và tạo ra một môi trường giao lưu văn hoá mạnh mẽ hơn. Sự xuất hiện của các yếu tố văn hoá ngoại lai và sự phụ thuộc vào không gian mạng đã tạo ra một sự đối lập giữa truyền thống và hiện đại trong xã hội ngày nay.\n",
      "\u001b[0m"
     ]
    },
    {
     "data": {
      "text/plain": [
       "Response(response='C. Khiến nhiều người lao động đối diện với nguy cơ mất việc làm.', source_nodes=[NodeWithScore(node=TextNode(id_='e6bd7632-dc18-44bc-8931-59ef87c91add', embedding=None, metadata={}, excluded_embed_metadata_keys=[], excluded_llm_metadata_keys=[], relationships={}, metadata_template='{key}: {value}', metadata_separator='\\n', text='Sub question: Cuộc cách mạng công nghiệp hiện đại đã dẫn đến sự phân hóa trong lực lượng lao động như thế nào?\\nResponse: Cuộc cách mạng công nghiệp hiện đại đã dẫn đến sự phân hóa trong lực lượng lao động bằng cách tăng số lượng người lao động có kỹ năng và trình độ chuyên môn cao, đồng thời giảm dần số lượng người lao động phổ thông.', mimetype='text/plain', start_char_idx=None, end_char_idx=None, metadata_seperator='\\n', text_template='{metadata_str}\\n\\n{content}'), score=None), NodeWithScore(node=TextNode(id_='f91207e8-81b5-48a5-b445-6d468d949ded', embedding=None, metadata={}, excluded_embed_metadata_keys=[], excluded_llm_metadata_keys=[], relationships={}, metadata_template='{key}: {value}', metadata_separator='\\n', text='Sub question: Có những nghiên cứu nào chỉ ra rằng cuộc cách mạng công nghiệp hiện đại khiến nhiều người lao động đối diện với nguy cơ mất việc làm?\\nResponse: Có những nghiên cứu chỉ ra rằng cuộc cách mạng công nghiệp hiện đại khiến nhiều người lao động đối diện với nguy cơ mất việc làm do sự tự động hoá giúp giải phóng sức lao động của con người, đặc biệt trong những công việc nguy hiểm, trong môi trường độc hại.', mimetype='text/plain', start_char_idx=None, end_char_idx=None, metadata_seperator='\\n', text_template='{metadata_str}\\n\\n{content}'), score=None), NodeWithScore(node=TextNode(id_='c7035309-289b-4aba-9a8f-cbfc1db68a7b', embedding=None, metadata={}, excluded_embed_metadata_keys=[], excluded_llm_metadata_keys=[], relationships={}, metadata_template='{key}: {value}', metadata_separator='\\n', text='Sub question: Cuộc cách mạng công nghiệp hiện đại đã làm gia tăng sự xung đột giữa văn hóa truyền thống và hiện đại ra sao?\\nResponse: Cuộc cách mạng công nghiệp hiện đại đã tạo ra sự xung đột giữa văn hóa truyền thống và hiện đại bằng cách thúc đẩy sự đa dạng văn hóa trên phạm vi toàn cầu. Điều này đã góp phần vào việc thay đổi lối sống và tạo ra một môi trường giao lưu văn hoá mạnh mẽ hơn. Sự xuất hiện của các yếu tố văn hoá ngoại lai và sự phụ thuộc vào không gian mạng đã tạo ra một sự đối lập giữa truyền thống và hiện đại trong xã hội ngày nay.', mimetype='text/plain', start_char_idx=None, end_char_idx=None, metadata_seperator='\\n', text_template='{metadata_str}\\n\\n{content}'), score=None), NodeWithScore(node=TextNode(id_='242ad780-cb7b-4871-a7b4-2ec4efff3ae6', embedding=None, metadata={'file_path': '/Users/user/Desktop/Python/rag-book/src/notebooks/../data/grade_10_ket_noi_tri_thuc_lich_su.md', 'file_name': 'grade_10_ket_noi_tri_thuc_lich_su.md', 'file_type': 'text/markdown', 'file_size': 309124, 'creation_date': '2025-07-06', 'last_modified_date': '2025-07-05'}, excluded_embed_metadata_keys=['file_name', 'file_type', 'file_size', 'creation_date', 'last_modified_date', 'last_accessed_date'], excluded_llm_metadata_keys=['file_name', 'file_type', 'file_size', 'creation_date', 'last_modified_date', 'last_accessed_date'], relationships={<NodeRelationship.SOURCE: '1'>: RelatedNodeInfo(node_id='4d5da1f5-597d-487b-95c4-3f286b02b028', node_type='4', metadata={'file_path': '/Users/user/Desktop/Python/rag-book/src/notebooks/../data/grade_10_ket_noi_tri_thuc_lich_su.md', 'file_name': 'grade_10_ket_noi_tri_thuc_lich_su.md', 'file_type': 'text/markdown', 'file_size': 309124, 'creation_date': '2025-07-06', 'last_modified_date': '2025-07-05'}, hash='9af9916664f153f4d2087a53a45a249d3de62077f93ce7006b7a5d01aa29ef1b'), <NodeRelationship.PREVIOUS: '2'>: RelatedNodeInfo(node_id='207ca920-1e34-4fb7-99f5-51c5b4881334', node_type='1', metadata={'file_path': '/Users/user/Desktop/Python/rag-book/src/notebooks/../data/grade_10_ket_noi_tri_thuc_lich_su.md', 'file_name': 'grade_10_ket_noi_tri_thuc_lich_su.md', 'file_type': 'text/markdown', 'file_size': 309124, 'creation_date': '2025-07-06', 'last_modified_date': '2025-07-05'}, hash='ab179f06e6c0e7b3e80edfed2d770e98b0d49c85c99b890e9fe74010bc9fbc94'), <NodeRelationship.NEXT: '3'>: RelatedNodeInfo(node_id='e51422cf-dfd7-4d3e-9de8-361aed0b6377', node_type='1', metadata={}, hash='8653a2967e73d3614c42c1797bc3a53b9103cda2bec18a1f7321c16e9ad602de')}, metadata_template='{key}: {value}', metadata_separator='\\n', text='Những ứng dụng của các cuộc cách mạng công nghiệp thời kì hiện đại đã giúp cho việc mở rộng và đa dạng hóa các hình thức sản xuất và quản lí. Con người có thể tiếp cận thông tin một cách nhanh chóng và đầy đủ nhờ sự hỗ trợ của internet, dữ liệu lớn, sự phát triển của hệ thống thông tin trực tuyến, mạng xã hội,... do đó có thể hỗ trợ việc ra quyết định nhanh hơn và chính xác hơn.\\n\\nSự ra đời của các nhà máy thông minh ứng dụng công nghệ tự động hóa và trí tuệ nhân tạo (AI) đã giúp tăng năng suất lao động gấp nhiều lần, rút ngắn thời gian và tiết kiệm nguyên, nhiên liệu, nâng cao chất lượng sản phẩm,...\\n\\n73\\n== 75 ==\\nNhờ sự phát triển của mạng internet, thương mại điện tử ra đời đã giúp người tiêu dùng có thể lựa chọn, mua sắm hàng hoá, dịch vụ bằng hình thức trực tuyến. Thông qua thương mại điện tử, người tiêu dùng tiếp cận gần hơn với thương mại toàn cầu.\\n\\nSự phát triển của cuộc cách mạng công nghiệp hiện đại đã thúc đẩy quá trình khu vực hoá, toàn cầu hoá nền kinh tế thế giới,...\\n\\nb) Tác động về xã hội, văn hoá\\nBảng hệ thống một số tác động về xã hội và văn hoá của các cuộc cách mạng công nghiệp thời kì hiện đại\\n\\nLĩnh vực | Tác động\\n--- | ---\\n | Tích cực | Tiêu cực\\nXã hội | - Tự động hoá giúp giải phóng sức lao động của con người, đặc biệt trong những công việc nguy hiểm, trong môi trường độc hại.<br>- Trí thức đóa dẫn đến sự phân hoá trong lực lượng lao động, số lượng người lao động có kĩ năng và trình độ chuyên môn cao ngày càng tăng.<br>- Ngày nay, con người có thể làm nhiều loại công việc bằng hình thức từ xa, giúp tiết kiệm thời gian,... | - Khiến nhiều người lao động đối diện với nguy cơ mất việc làm.<br>- Gây ra sự phân hoá trong xã hội, nới rộng khoảng cách giàu - nghèo.<br>- Con người bị lệ thuộc nhiều hơn vào các thiết bị thông minh; ít quan tâm đến các mối quan hệ gia đình, xã hội.', mimetype='text/plain', start_char_idx=115629, end_char_idx=117451, metadata_seperator='\\n', text_template='{metadata_str}\\n\\n{content}'), score=0.8903215558602618), NodeWithScore(node=TextNode(id_='d84a6e3b-a0e1-4a6e-bab0-30729f385245', embedding=None, metadata={'file_path': '/Users/user/Desktop/Python/rag-book/src/notebooks/../data/grade_10_canh_dieu_lich_su.md', 'file_name': 'grade_10_canh_dieu_lich_su.md', 'file_type': 'text/markdown', 'file_size': 330557, 'creation_date': '2025-07-06', 'last_modified_date': '2025-07-05'}, excluded_embed_metadata_keys=['file_name', 'file_type', 'file_size', 'creation_date', 'last_modified_date', 'last_accessed_date'], excluded_llm_metadata_keys=['file_name', 'file_type', 'file_size', 'creation_date', 'last_modified_date', 'last_accessed_date'], relationships={<NodeRelationship.SOURCE: '1'>: RelatedNodeInfo(node_id='fe3c0f91-130a-41cd-bc4a-e68e1230376a', node_type='4', metadata={'file_path': '/Users/user/Desktop/Python/rag-book/src/notebooks/../data/grade_10_canh_dieu_lich_su.md', 'file_name': 'grade_10_canh_dieu_lich_su.md', 'file_type': 'text/markdown', 'file_size': 330557, 'creation_date': '2025-07-06', 'last_modified_date': '2025-07-05'}, hash='7a435aa48a3abf51612e9a4f9f6f4b56dac0175553e48a4609ae0c88cbf8b7b2'), <NodeRelationship.PREVIOUS: '2'>: RelatedNodeInfo(node_id='e941d467-65ee-45bb-a014-070f902c8525', node_type='1', metadata={'file_path': '/Users/user/Desktop/Python/rag-book/src/notebooks/../data/grade_10_canh_dieu_lich_su.md', 'file_name': 'grade_10_canh_dieu_lich_su.md', 'file_type': 'text/markdown', 'file_size': 330557, 'creation_date': '2025-07-06', 'last_modified_date': '2025-07-05'}, hash='e79f323df8c1e33de13c993c328d5344489cbc66c9a4542fe332ee128c4549c8'), <NodeRelationship.NEXT: '3'>: RelatedNodeInfo(node_id='8210f7dd-10fb-4fac-99ff-c004e1b7f4a8', node_type='1', metadata={}, hash='fb38a67a6371570b03e616110055ed8b7471995dec54dfa8c9d22b932a1d5cdc')}, metadata_template='{key}: {value}', metadata_separator='\\n', text='Hình 9.15. Mô hình toàn cầu hoá\\n\\n? Đọc thông tin và quan sát sơ đồ 9.3, các hình từ 9.13 đến 9.15, hãy làm rõ ý nghĩa của cuộc Cách mạng công nghiệp lần thứ ba và lần thứ tư đối với sự phát triển kinh tế của thế giới. Cho ví dụ cụ thể.\\n\\n[Hình minh họa: Một quả địa cầu được bao quanh bởi nhiều hình người đa màu sắc đứng thành vòng tròn, thể hiện sự kết nối toàn cầu]\\n\\n3.2. Tác động\\n\\nĐối với xã hội\\n\\nCuộc Cách mạng công nghiệp lần thứ ba và lần thứ tư tiếp tục tác động mạnh mẽ đến xã hội, đặc biệt là sự xuất hiện của giai cấp công nhân hiện đại. Số lượng công nhân có tri thức, kĩ năng và trình độ chuyên môn cao ngày càng tăng, số lượng công nhân lao động phổ thông có xu hướng giảm dần.\\n\\nGiai cấp công nhân hiện đại vẫn tiếp tục giữ vai trò là lực lượng chính trị - xã hội chủ yếu trong các cuộc đấu tranh chính trị. Tuy nhiên, so với trước đây, cuộc đấu tranh của công nhân hiện đại mang tính chất kinh tế - xã hội nhiều hơn.\\n\\nCuộc Cách mạng công nghiệp lần thứ ba và lần thứ tư cũng có tác động tiêu cực, như làm gia tăng khoảng cách giữa người giàu và người nghèo ở các nước, làm xói mòn bản sắc văn hoá, giá trị truyền thống của các cộng đồng...\\n\\n+ Cuộc đấu tranh của công nhân hiện đại có những biểu hiện mới như bảo vệ dân chủ, nhân quyền, chống phân biệt chủng tộc, chống lại tiêu cực của toàn cầu hoá, bảo vệ môi trường,...\\n\\nĐối với văn hoá\\n\\nCuộc Cách mạng công nghiệp lần thứ ba và lần thứ tư dẫn đến sự biến đổi mạnh mẽ về văn hoá.\\n\\nBảng 9. Tác động của các cuộc Cách mạng công nghiệp hiện đại đến văn hoá\\n\\nTích cực:\\n- Mở rộng mối giao lưu và quan hệ giữa con người với con người.\\n- Thúc đẩy các công đồng, các dân tộc, các nền văn hoá xích lại gần nhau hơn.\\n- Đưa tri thức thâm nhập sâu vào nền sản xuất vật chất.\\n- Tác động mạnh mẽ đến xu hướng tiêu dùng.\\n\\nTiêu cực:\\n- Làm tăng sự lệ thuộc của con người vào công nghệ như máy tính, điện thoại thông minh, hệ thống mạng internet,...\\n- Phát sinh tình trạng văn hoá \"lai căng\".\\n- Nguy cơ đánh mất văn hoá truyền thống.', mimetype='text/plain', start_char_idx=123424, end_char_idx=125405, metadata_seperator='\\n', text_template='{metadata_str}\\n\\n{content}'), score=0.8860356213713556), NodeWithScore(node=TextNode(id_='242ad780-cb7b-4871-a7b4-2ec4efff3ae6', embedding=None, metadata={'file_path': '/Users/user/Desktop/Python/rag-book/src/notebooks/../data/grade_10_ket_noi_tri_thuc_lich_su.md', 'file_name': 'grade_10_ket_noi_tri_thuc_lich_su.md', 'file_type': 'text/markdown', 'file_size': 309124, 'creation_date': '2025-07-06', 'last_modified_date': '2025-07-05'}, excluded_embed_metadata_keys=['file_name', 'file_type', 'file_size', 'creation_date', 'last_modified_date', 'last_accessed_date'], excluded_llm_metadata_keys=['file_name', 'file_type', 'file_size', 'creation_date', 'last_modified_date', 'last_accessed_date'], relationships={<NodeRelationship.SOURCE: '1'>: RelatedNodeInfo(node_id='4d5da1f5-597d-487b-95c4-3f286b02b028', node_type='4', metadata={'file_path': '/Users/user/Desktop/Python/rag-book/src/notebooks/../data/grade_10_ket_noi_tri_thuc_lich_su.md', 'file_name': 'grade_10_ket_noi_tri_thuc_lich_su.md', 'file_type': 'text/markdown', 'file_size': 309124, 'creation_date': '2025-07-06', 'last_modified_date': '2025-07-05'}, hash='9af9916664f153f4d2087a53a45a249d3de62077f93ce7006b7a5d01aa29ef1b'), <NodeRelationship.PREVIOUS: '2'>: RelatedNodeInfo(node_id='207ca920-1e34-4fb7-99f5-51c5b4881334', node_type='1', metadata={'file_path': '/Users/user/Desktop/Python/rag-book/src/notebooks/../data/grade_10_ket_noi_tri_thuc_lich_su.md', 'file_name': 'grade_10_ket_noi_tri_thuc_lich_su.md', 'file_type': 'text/markdown', 'file_size': 309124, 'creation_date': '2025-07-06', 'last_modified_date': '2025-07-05'}, hash='ab179f06e6c0e7b3e80edfed2d770e98b0d49c85c99b890e9fe74010bc9fbc94'), <NodeRelationship.NEXT: '3'>: RelatedNodeInfo(node_id='e51422cf-dfd7-4d3e-9de8-361aed0b6377', node_type='1', metadata={}, hash='8653a2967e73d3614c42c1797bc3a53b9103cda2bec18a1f7321c16e9ad602de')}, metadata_template='{key}: {value}', metadata_separator='\\n', text='Những ứng dụng của các cuộc cách mạng công nghiệp thời kì hiện đại đã giúp cho việc mở rộng và đa dạng hóa các hình thức sản xuất và quản lí. Con người có thể tiếp cận thông tin một cách nhanh chóng và đầy đủ nhờ sự hỗ trợ của internet, dữ liệu lớn, sự phát triển của hệ thống thông tin trực tuyến, mạng xã hội,... do đó có thể hỗ trợ việc ra quyết định nhanh hơn và chính xác hơn.\\n\\nSự ra đời của các nhà máy thông minh ứng dụng công nghệ tự động hóa và trí tuệ nhân tạo (AI) đã giúp tăng năng suất lao động gấp nhiều lần, rút ngắn thời gian và tiết kiệm nguyên, nhiên liệu, nâng cao chất lượng sản phẩm,...\\n\\n73\\n== 75 ==\\nNhờ sự phát triển của mạng internet, thương mại điện tử ra đời đã giúp người tiêu dùng có thể lựa chọn, mua sắm hàng hoá, dịch vụ bằng hình thức trực tuyến. Thông qua thương mại điện tử, người tiêu dùng tiếp cận gần hơn với thương mại toàn cầu.\\n\\nSự phát triển của cuộc cách mạng công nghiệp hiện đại đã thúc đẩy quá trình khu vực hoá, toàn cầu hoá nền kinh tế thế giới,...\\n\\nb) Tác động về xã hội, văn hoá\\nBảng hệ thống một số tác động về xã hội và văn hoá của các cuộc cách mạng công nghiệp thời kì hiện đại\\n\\nLĩnh vực | Tác động\\n--- | ---\\n | Tích cực | Tiêu cực\\nXã hội | - Tự động hoá giúp giải phóng sức lao động của con người, đặc biệt trong những công việc nguy hiểm, trong môi trường độc hại.<br>- Trí thức đóa dẫn đến sự phân hoá trong lực lượng lao động, số lượng người lao động có kĩ năng và trình độ chuyên môn cao ngày càng tăng.<br>- Ngày nay, con người có thể làm nhiều loại công việc bằng hình thức từ xa, giúp tiết kiệm thời gian,... | - Khiến nhiều người lao động đối diện với nguy cơ mất việc làm.<br>- Gây ra sự phân hoá trong xã hội, nới rộng khoảng cách giàu - nghèo.<br>- Con người bị lệ thuộc nhiều hơn vào các thiết bị thông minh; ít quan tâm đến các mối quan hệ gia đình, xã hội.', mimetype='text/plain', start_char_idx=115629, end_char_idx=117451, metadata_seperator='\\n', text_template='{metadata_str}\\n\\n{content}'), score=0.8920803875291013), NodeWithScore(node=TextNode(id_='5fd87aac-69f0-4c4f-a931-6c34f921df9a', embedding=None, metadata={'file_path': '/Users/user/Desktop/Python/rag-book/src/notebooks/../data/grade_10_chan_troi_sang_tao_lich_su.md', 'file_name': 'grade_10_chan_troi_sang_tao_lich_su.md', 'file_type': 'text/markdown', 'file_size': 326132, 'creation_date': '2025-07-06', 'last_modified_date': '2025-07-05'}, excluded_embed_metadata_keys=['file_name', 'file_type', 'file_size', 'creation_date', 'last_modified_date', 'last_accessed_date'], excluded_llm_metadata_keys=['file_name', 'file_type', 'file_size', 'creation_date', 'last_modified_date', 'last_accessed_date'], relationships={<NodeRelationship.SOURCE: '1'>: RelatedNodeInfo(node_id='b1307796-ba8f-425e-9653-d1e223bfeade', node_type='4', metadata={'file_path': '/Users/user/Desktop/Python/rag-book/src/notebooks/../data/grade_10_chan_troi_sang_tao_lich_su.md', 'file_name': 'grade_10_chan_troi_sang_tao_lich_su.md', 'file_type': 'text/markdown', 'file_size': 326132, 'creation_date': '2025-07-06', 'last_modified_date': '2025-07-05'}, hash='d9bb491981bd0a7e57cba592c617b2b16aa172b266b276b050b7f3822b00722f'), <NodeRelationship.PREVIOUS: '2'>: RelatedNodeInfo(node_id='9385e2f9-d25f-4d8e-871b-81b916cd36c8', node_type='1', metadata={'file_path': '/Users/user/Desktop/Python/rag-book/src/notebooks/../data/grade_10_chan_troi_sang_tao_lich_su.md', 'file_name': 'grade_10_chan_troi_sang_tao_lich_su.md', 'file_type': 'text/markdown', 'file_size': 326132, 'creation_date': '2025-07-06', 'last_modified_date': '2025-07-05'}, hash='0616afe6192557fd5db9a8b92450e0fa12a75be61adfe60b9ee9f3929116cc1d'), <NodeRelationship.NEXT: '3'>: RelatedNodeInfo(node_id='6de05856-e96c-42f3-97f2-67892bc44d10', node_type='1', metadata={}, hash='b6f694dd0bfb70978929355ced222e98173b1faf407a4772d38c12d9dfd0f23f')}, metadata_template='{key}: {value}', metadata_separator='\\n', text='VẬN DỤNG\\n\\n1. Có quan điểm cho rằng: \"Sự ra đời của máy bay trong Cách mạng công nghiệp lần thứ hai đã thúc đẩy kết nối mạnh mẽ các quốc gia trên thế giới\". Em hãy chứng minh nhận định trên.\\n2. Em hãy chọn và phân tích một thành tựu văn minh trong hai cuộc cách mạng công nghiệp thời kì cận đại có ảnh hưởng trực tiếp đến cuộc sống hằng ngày và việc học tập của bản thân.\\n== 72 ==\\n\\n\\nBài 12: CÁC CUỘC CÁCH MẠNG CÔNG NGHIỆP THỜI KÌ HIỆN ĐẠI\\n\\nYêu cầu cần đạt\\n- Trình bày được bối cảnh lịch sử, thành tựu cơ bản của hai cuộc cách mạng công nghiệp thời hiện đại. Biết cách sưu tầm tư liệu để tìm hiểu về hai cuộc cách mạng công nghiệp này.\\n- Phân tích được ý nghĩa và tác động của hai cuộc cách mạng công nghiệp thời hiện đại; từ đó có thái độ đúng đắn đối với những thành quả của các cuộc cách mạng công nghiệp trong lịch sử.\\n\\nTrong thời kì hiện đại, thế giới tiếp tục chứng kiến hai cuộc cách mạng công nghiệp, trong đó trí tuệ con người đã làm chủ, dẫn dắt sự đổi mới của máy móc, tác động tích cực đến phát triển thể chất và tinh thần của con người. Các cuộc cách mạng công nghiệp thời kì hiện đại, đặc biệt là Cách mạng công nghiệp lần thứ tư (Cách mạng 4.0) đã tạo ra sự thay đổi toàn diện nền kinh tế thế giới và những vấn đề toàn cầu. Bài học này phân tích rõ những vấn đề này.\\n\\nI. CÁCH MẠNG CÔNG NGHIỆP LẦN THỨ BA\\n\\n1. Bối cảnh lịch sử\\n\\nCuộc Cách mạng công nghiệp lần thứ ba diễn ra trên cơ sở kế thừa hai cuộc cách mạng công nghiệp thời kì cận đại. Cuộc Chiến tranh thế giới thứ hai và cuộc Chiến tranh lạnh đã thúc đẩy sự ra đời nhiều phát minh, thành tựu khoa học mới.\\n\\nTừ nửa sau thế kỉ XX, những nguồn năng lượng, vật liệu cổ sản trong tự nhiên đang dần cạn kiệt; vấn đề biến đổi khí hậu khiến nhân loại phải đối mặt với sự thay đổi về nhiệt độ, phá vỡ cân bằng các hệ sinh thái, đe dọa sự sinh tồn của con người. Sự cần thiết phải có những công nghệ mới, an toàn và bền vững ngày càng trở nên cấp thiết.\\n\\nKhởi đầu từ nước Mỹ, cuộc cách mạng công nghiệp lần này sử dụng điện tử và công nghệ thông tin để tự động hoá sản xuất nên còn được gọi là cuộc cách mạng số. Khoa học và kĩ thuật kết hợp chặt chẽ thành một thể thống nhất, tạo nên sức mạnh tổng hợp, thúc đẩy cách mạng công nghiệp phát triển với tốc độ nhanh, quy mô lớn và hiệu quả cao.\\n== 73 ==', mimetype='text/plain', start_char_idx=114600, end_char_idx=116858, metadata_seperator='\\n', text_template='{metadata_str}\\n\\n{content}'), score=0.8823614942860033), NodeWithScore(node=TextNode(id_='b8459f5a-37ef-4912-a16e-0199acdef8ad', embedding=None, metadata={'file_path': '/Users/user/Desktop/Python/rag-book/src/notebooks/../data/grade_10_chan_troi_sang_tao_lich_su.md', 'file_name': 'grade_10_chan_troi_sang_tao_lich_su.md', 'file_type': 'text/markdown', 'file_size': 326132, 'creation_date': '2025-07-06', 'last_modified_date': '2025-07-05'}, excluded_embed_metadata_keys=['file_name', 'file_type', 'file_size', 'creation_date', 'last_modified_date', 'last_accessed_date'], excluded_llm_metadata_keys=['file_name', 'file_type', 'file_size', 'creation_date', 'last_modified_date', 'last_accessed_date'], relationships={<NodeRelationship.SOURCE: '1'>: RelatedNodeInfo(node_id='b1307796-ba8f-425e-9653-d1e223bfeade', node_type='4', metadata={'file_path': '/Users/user/Desktop/Python/rag-book/src/notebooks/../data/grade_10_chan_troi_sang_tao_lich_su.md', 'file_name': 'grade_10_chan_troi_sang_tao_lich_su.md', 'file_type': 'text/markdown', 'file_size': 326132, 'creation_date': '2025-07-06', 'last_modified_date': '2025-07-05'}, hash='d9bb491981bd0a7e57cba592c617b2b16aa172b266b276b050b7f3822b00722f'), <NodeRelationship.PREVIOUS: '2'>: RelatedNodeInfo(node_id='f0cbe4f9-f9b3-4b59-9d92-3cac386abec9', node_type='1', metadata={'file_path': '/Users/user/Desktop/Python/rag-book/src/notebooks/../data/grade_10_chan_troi_sang_tao_lich_su.md', 'file_name': 'grade_10_chan_troi_sang_tao_lich_su.md', 'file_type': 'text/markdown', 'file_size': 326132, 'creation_date': '2025-07-06', 'last_modified_date': '2025-07-05'}, hash='0c4aba99a46e3a2d609e24c5ac1fb31eac76314d5a48a80205a18b22aa5db18f'), <NodeRelationship.NEXT: '3'>: RelatedNodeInfo(node_id='1f932be1-bb65-41f9-8f21-9d155d004a88', node_type='1', metadata={}, hash='eb4cd5bae897e7e4a816491801ed1858da827a8479e1643541c458f9537793bb')}, metadata_template='{key}: {value}', metadata_separator='\\n', text='III. Ý NGHĨA VÀ TÁC ĐỘNG CỦA CÁCH MẠNG CÔNG NGHIỆP THỜI KÌ HIỆN ĐẠI\\n\\nKinh tế\\n\\nCách mạng công nghiệp lần thứ ba và lần thứ tư đã tạo ra bước nhảy vọt chưa từng có của lực lượng sản xuất và năng suất lao động, làm thay đổi vị trí, cơ cấu các ngành sản xuất và các vùng kinh tế, làm xuất hiện nhiều ngành công nghiệp mới.\\n\\nCách mạng công nghiệp lần thứ tư tạo ra một thế giới kết nối, hình thành các mối quan hệ cộng tác, các hình thức hợp tác mới. Lao động trí tuệ trở thành yếu tố quan trọng nhất trong sản xuất, là động lực chủ yếu tạo nên sự phát triển. In-tơ-nét, điện thoại thông minh và hàng ngàn ứng dụng trí tuệ nhân tạo có mặt ở hầu hết mọi nơi, từ những phương tiện giao thông không người lái đến trợ lí ảo và phần mềm dịch thuật,... đã và đang thay đổi mạnh mẽ cuộc sống của nhân loại.\\n\\nXã hội\\n\\nCách mạng công nghiệp lần thứ ba và lần thứ tư làm cho sự phân công lao động và chuyên môn hoá ngày càng sâu sắc. Các ngành sản xuất phi vật chất (giáo dục, du lịch, giao thông vận tải, tài chính, ngân hàng,...) ngày càng được nâng cao, với nội dung, tính chất và hình thức lao động hoàn toàn khác biệt đã làm thay đổi cách nghĩ, lối sống, phương thức làm việc và quan hệ của con người trong xã hội.\\n\\nTuy nhiên, sự tự động hoá ngày càng cao làm cho tình trạng thất nghiệp trên toàn cầu gia tăng, từ đó dẫn đến những nguy cơ bất ổn về chính trị và xã hội.\\n\\nVăn hoá\\n\\nCuộc Cách mạng công nghiệp lần thứ tư góp phần thúc đẩy sự đa dạng văn hoá trên cơ sở kết nối toàn cầu, giúp các quốc gia, các dân tộc sát lại gần nhau, thúc đẩy mạnh mẽ quá trình giao lưu, tiếp xúc văn hoá. Những thành tựu cũng góp phần thay đổi lối sống, gắn nhiều hơn với \"không gian mạng\", \"thế giới ảo\",... Cuộc cách mạng công nghiệp lần thứ tư cũng ảnh hưởng đến các giá trị văn hoá truyền thống: sự xuất hiện những yếu tố văn hoá ngoại lai; sự phụ thuộc vào \"thế giới mạng\",...\\n\\nHình 12.7.', mimetype='text/plain', start_char_idx=122729, end_char_idx=124594, metadata_seperator='\\n', text_template='{metadata_str}\\n\\n{content}'), score=0.8957793261686475), NodeWithScore(node=TextNode(id_='5fd87aac-69f0-4c4f-a931-6c34f921df9a', embedding=None, metadata={'file_path': '/Users/user/Desktop/Python/rag-book/src/notebooks/../data/grade_10_chan_troi_sang_tao_lich_su.md', 'file_name': 'grade_10_chan_troi_sang_tao_lich_su.md', 'file_type': 'text/markdown', 'file_size': 326132, 'creation_date': '2025-07-06', 'last_modified_date': '2025-07-05'}, excluded_embed_metadata_keys=['file_name', 'file_type', 'file_size', 'creation_date', 'last_modified_date', 'last_accessed_date'], excluded_llm_metadata_keys=['file_name', 'file_type', 'file_size', 'creation_date', 'last_modified_date', 'last_accessed_date'], relationships={<NodeRelationship.SOURCE: '1'>: RelatedNodeInfo(node_id='b1307796-ba8f-425e-9653-d1e223bfeade', node_type='4', metadata={'file_path': '/Users/user/Desktop/Python/rag-book/src/notebooks/../data/grade_10_chan_troi_sang_tao_lich_su.md', 'file_name': 'grade_10_chan_troi_sang_tao_lich_su.md', 'file_type': 'text/markdown', 'file_size': 326132, 'creation_date': '2025-07-06', 'last_modified_date': '2025-07-05'}, hash='d9bb491981bd0a7e57cba592c617b2b16aa172b266b276b050b7f3822b00722f'), <NodeRelationship.PREVIOUS: '2'>: RelatedNodeInfo(node_id='9385e2f9-d25f-4d8e-871b-81b916cd36c8', node_type='1', metadata={'file_path': '/Users/user/Desktop/Python/rag-book/src/notebooks/../data/grade_10_chan_troi_sang_tao_lich_su.md', 'file_name': 'grade_10_chan_troi_sang_tao_lich_su.md', 'file_type': 'text/markdown', 'file_size': 326132, 'creation_date': '2025-07-06', 'last_modified_date': '2025-07-05'}, hash='0616afe6192557fd5db9a8b92450e0fa12a75be61adfe60b9ee9f3929116cc1d'), <NodeRelationship.NEXT: '3'>: RelatedNodeInfo(node_id='6de05856-e96c-42f3-97f2-67892bc44d10', node_type='1', metadata={}, hash='b6f694dd0bfb70978929355ced222e98173b1faf407a4772d38c12d9dfd0f23f')}, metadata_template='{key}: {value}', metadata_separator='\\n', text='VẬN DỤNG\\n\\n1. Có quan điểm cho rằng: \"Sự ra đời của máy bay trong Cách mạng công nghiệp lần thứ hai đã thúc đẩy kết nối mạnh mẽ các quốc gia trên thế giới\". Em hãy chứng minh nhận định trên.\\n2. Em hãy chọn và phân tích một thành tựu văn minh trong hai cuộc cách mạng công nghiệp thời kì cận đại có ảnh hưởng trực tiếp đến cuộc sống hằng ngày và việc học tập của bản thân.\\n== 72 ==\\n\\n\\nBài 12: CÁC CUỘC CÁCH MẠNG CÔNG NGHIỆP THỜI KÌ HIỆN ĐẠI\\n\\nYêu cầu cần đạt\\n- Trình bày được bối cảnh lịch sử, thành tựu cơ bản của hai cuộc cách mạng công nghiệp thời hiện đại. Biết cách sưu tầm tư liệu để tìm hiểu về hai cuộc cách mạng công nghiệp này.\\n- Phân tích được ý nghĩa và tác động của hai cuộc cách mạng công nghiệp thời hiện đại; từ đó có thái độ đúng đắn đối với những thành quả của các cuộc cách mạng công nghiệp trong lịch sử.\\n\\nTrong thời kì hiện đại, thế giới tiếp tục chứng kiến hai cuộc cách mạng công nghiệp, trong đó trí tuệ con người đã làm chủ, dẫn dắt sự đổi mới của máy móc, tác động tích cực đến phát triển thể chất và tinh thần của con người. Các cuộc cách mạng công nghiệp thời kì hiện đại, đặc biệt là Cách mạng công nghiệp lần thứ tư (Cách mạng 4.0) đã tạo ra sự thay đổi toàn diện nền kinh tế thế giới và những vấn đề toàn cầu. Bài học này phân tích rõ những vấn đề này.\\n\\nI. CÁCH MẠNG CÔNG NGHIỆP LẦN THỨ BA\\n\\n1. Bối cảnh lịch sử\\n\\nCuộc Cách mạng công nghiệp lần thứ ba diễn ra trên cơ sở kế thừa hai cuộc cách mạng công nghiệp thời kì cận đại. Cuộc Chiến tranh thế giới thứ hai và cuộc Chiến tranh lạnh đã thúc đẩy sự ra đời nhiều phát minh, thành tựu khoa học mới.\\n\\nTừ nửa sau thế kỉ XX, những nguồn năng lượng, vật liệu cổ sản trong tự nhiên đang dần cạn kiệt; vấn đề biến đổi khí hậu khiến nhân loại phải đối mặt với sự thay đổi về nhiệt độ, phá vỡ cân bằng các hệ sinh thái, đe dọa sự sinh tồn của con người. Sự cần thiết phải có những công nghệ mới, an toàn và bền vững ngày càng trở nên cấp thiết.\\n\\nKhởi đầu từ nước Mỹ, cuộc cách mạng công nghiệp lần này sử dụng điện tử và công nghệ thông tin để tự động hoá sản xuất nên còn được gọi là cuộc cách mạng số. Khoa học và kĩ thuật kết hợp chặt chẽ thành một thể thống nhất, tạo nên sức mạnh tổng hợp, thúc đẩy cách mạng công nghiệp phát triển với tốc độ nhanh, quy mô lớn và hiệu quả cao.\\n== 73 ==', mimetype='text/plain', start_char_idx=114600, end_char_idx=116858, metadata_seperator='\\n', text_template='{metadata_str}\\n\\n{content}'), score=0.8935138368129029)], metadata={'e6bd7632-dc18-44bc-8931-59ef87c91add': {}, 'f91207e8-81b5-48a5-b445-6d468d949ded': {}, 'c7035309-289b-4aba-9a8f-cbfc1db68a7b': {}, '242ad780-cb7b-4871-a7b4-2ec4efff3ae6': {'file_path': '/Users/user/Desktop/Python/rag-book/src/notebooks/../data/grade_10_ket_noi_tri_thuc_lich_su.md', 'file_name': 'grade_10_ket_noi_tri_thuc_lich_su.md', 'file_type': 'text/markdown', 'file_size': 309124, 'creation_date': '2025-07-06', 'last_modified_date': '2025-07-05'}, 'd84a6e3b-a0e1-4a6e-bab0-30729f385245': {'file_path': '/Users/user/Desktop/Python/rag-book/src/notebooks/../data/grade_10_canh_dieu_lich_su.md', 'file_name': 'grade_10_canh_dieu_lich_su.md', 'file_type': 'text/markdown', 'file_size': 330557, 'creation_date': '2025-07-06', 'last_modified_date': '2025-07-05'}, '5fd87aac-69f0-4c4f-a931-6c34f921df9a': {'file_path': '/Users/user/Desktop/Python/rag-book/src/notebooks/../data/grade_10_chan_troi_sang_tao_lich_su.md', 'file_name': 'grade_10_chan_troi_sang_tao_lich_su.md', 'file_type': 'text/markdown', 'file_size': 326132, 'creation_date': '2025-07-06', 'last_modified_date': '2025-07-05'}, 'b8459f5a-37ef-4912-a16e-0199acdef8ad': {'file_path': '/Users/user/Desktop/Python/rag-book/src/notebooks/../data/grade_10_chan_troi_sang_tao_lich_su.md', 'file_name': 'grade_10_chan_troi_sang_tao_lich_su.md', 'file_type': 'text/markdown', 'file_size': 326132, 'creation_date': '2025-07-06', 'last_modified_date': '2025-07-05'}})"
      ]
     },
     "execution_count": 82,
     "metadata": {},
     "output_type": "execute_result"
    }
   ],
   "source": [
    "query_engine.query(\n",
    "    \"\"\"\n",
    "    Các cuộc cách mạng công nghiệp thời kì hiện đại đem lại tác động tiêu cực nào sau đây về văn hóa?\n",
    "\n",
    "    A. Xuất hiện nguy cơ đánh mất bản sắc văn hóa dân tộc.\n",
    "    B. Khiến quá trình giao lưu văn hóa trở nên dễ dàng.\n",
    "    C. Giúp việc tìm kiếm, chia sẻ thông tin trở nên thuận tiện.\n",
    "    D. Giúp con người làm nhiều công việc bằng hình thức từ xa.\n",
    "    \"\"\"\n",
    ")"
   ]
  },
  {
   "cell_type": "code",
   "execution_count": null,
   "id": "9494e492",
   "metadata": {},
   "outputs": [],
   "source": []
  }
 ],
 "metadata": {
  "kernelspec": {
   "display_name": ".venv",
   "language": "python",
   "name": "python3"
  },
  "language_info": {
   "codemirror_mode": {
    "name": "ipython",
    "version": 3
   },
   "file_extension": ".py",
   "mimetype": "text/x-python",
   "name": "python",
   "nbconvert_exporter": "python",
   "pygments_lexer": "ipython3",
   "version": "3.13.3"
  }
 },
 "nbformat": 4,
 "nbformat_minor": 5
}
