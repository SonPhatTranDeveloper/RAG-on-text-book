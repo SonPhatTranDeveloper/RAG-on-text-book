{
 "cells": [
  {
   "cell_type": "code",
   "execution_count": 10,
   "id": "df75cfe1",
   "metadata": {},
   "outputs": [],
   "source": [
    "from llama_index.core import (\n",
    "    VectorStoreIndex,\n",
    "    SimpleDirectoryReader,\n",
    "    StorageContext,\n",
    "    load_index_from_storage,\n",
    ")\n",
    "from dotenv import load_dotenv\n",
    "import os"
   ]
  },
  {
   "cell_type": "code",
   "execution_count": 8,
   "id": "8bfe1190",
   "metadata": {},
   "outputs": [
    {
     "data": {
      "text/plain": [
       "True"
      ]
     },
     "execution_count": 8,
     "metadata": {},
     "output_type": "execute_result"
    }
   ],
   "source": [
    "# Load environment variables\n",
    "load_dotenv()"
   ]
  },
  {
   "cell_type": "code",
   "execution_count": 15,
   "id": "b8314777",
   "metadata": {},
   "outputs": [
    {
     "name": "stdout",
     "output_type": "stream",
     "text": [
      "Creating new index...\n"
     ]
    }
   ],
   "source": [
    "# Define storage directory\n",
    "storage_dir = \"../.index_storage\"\n",
    "\n",
    "# Check if index already exists\n",
    "if os.path.exists(storage_dir):\n",
    "    print(\"Loading existing index...\")\n",
    "    storage_context = StorageContext.from_defaults(persist_dir=storage_dir)\n",
    "    index = load_index_from_storage(storage_context)\n",
    "else:\n",
    "    print(\"Creating new index...\")\n",
    "    documents = SimpleDirectoryReader(\"../data\").load_data()\n",
    "    index = VectorStoreIndex.from_documents(documents)\n",
    "    index.storage_context.persist(persist_dir=storage_dir)"
   ]
  },
  {
   "cell_type": "code",
   "execution_count": 16,
   "id": "f73b0f7a",
   "metadata": {},
   "outputs": [],
   "source": [
    "# Create a query engine\n",
    "query_engine = index.as_query_engine()"
   ]
  },
  {
   "cell_type": "code",
   "execution_count": 25,
   "id": "3ef1d655",
   "metadata": {},
   "outputs": [
    {
     "data": {
      "text/plain": [
       "Response(response='Trong đợt khai thác thuộc địa lần thứ nhất của thực dân Pháp ở nước ta, giai cấp mới được hình thành là giai cấp tư sản.', source_nodes=[NodeWithScore(node=TextNode(id_='992807b6-4201-4fbc-9fc9-eab37d4dfbc7', embedding=None, metadata={'file_path': '/Users/user/Desktop/Python/rag-book/src/notebooks/../data/grade_12_ket_noi_tri_thuc_ngu_van_2.md', 'file_name': 'grade_12_ket_noi_tri_thuc_ngu_van_2.md', 'file_type': 'text/markdown', 'file_size': 402685, 'creation_date': '2025-07-06', 'last_modified_date': '2025-07-05'}, excluded_embed_metadata_keys=['file_name', 'file_type', 'file_size', 'creation_date', 'last_modified_date', 'last_accessed_date'], excluded_llm_metadata_keys=['file_name', 'file_type', 'file_size', 'creation_date', 'last_modified_date', 'last_accessed_date'], relationships={<NodeRelationship.SOURCE: '1'>: RelatedNodeInfo(node_id='b362df2b-6e40-477e-a30a-b21ee4955a92', node_type='4', metadata={'file_path': '/Users/user/Desktop/Python/rag-book/src/notebooks/../data/grade_12_ket_noi_tri_thuc_ngu_van_2.md', 'file_name': 'grade_12_ket_noi_tri_thuc_ngu_van_2.md', 'file_type': 'text/markdown', 'file_size': 402685, 'creation_date': '2025-07-06', 'last_modified_date': '2025-07-05'}, hash='e0928ab4a76512497321fe4d8095cf30c40caa834999334a130bed501ecb0410'), <NodeRelationship.PREVIOUS: '2'>: RelatedNodeInfo(node_id='6fab0902-7572-4ce9-b0b8-a057b73e7811', node_type='1', metadata={'file_path': '/Users/user/Desktop/Python/rag-book/src/notebooks/../data/grade_12_ket_noi_tri_thuc_ngu_van_2.md', 'file_name': 'grade_12_ket_noi_tri_thuc_ngu_van_2.md', 'file_type': 'text/markdown', 'file_size': 402685, 'creation_date': '2025-07-06', 'last_modified_date': '2025-07-05'}, hash='df70c2a44e5c79aec598a9709e1af1133bbaa0831e8717c1eb47fb975c431787'), <NodeRelationship.NEXT: '3'>: RelatedNodeInfo(node_id='e38dc882-9958-4d67-b00a-adfdc3c6e278', node_type='1', metadata={}, hash='8ad04a24b8379ffd8ab37894c4c3e0370ec3879db8ee963cb6a3559be1ae44ba')}, metadata_template='{key}: {value}', metadata_separator='\\n', text='Sau cuộc biến động ngày 9 tháng 3, Việt Minh đã giúp cho nhiều người Pháp chạy qua biên thuỳ, lại cứu cho người Pháp ra khỏi nhà giam Nhật và bảo vệ tính mạng, tài sản cho họ.\\n\\nSự thực là từ mùa thu năm 1940, nước ta đã thành thuộc địa của Nhật, chứ không phải thuộc địa của Pháp nữa. Khi Nhật hàng Đồng minh thì nhân dân cả nước ta đã nổi dậy giành chính quyền, lập nên nước Việt Nam Cộng hoà Dân chủ(1).\\n\\nSự thực là dân ta đã lấy lại nước Việt Nam từ(2) tay Nhật, chứ không phải từ tay Pháp.\\n\\nPháp chạy, Nhật hàng, vua Bảo Đại thoái vị. Dân ta đã đánh đổ các xiềng xích thực dân gần một trăm năm nay để gây nên nước Việt Nam độc lập. Dân ta lại đánh đổ chế độ quân chủ mấy mươi thế kỉ mà lập nên chế độ Dân chủ Cộng hoà.\\n\\nBởi thế cho nên, chúng tôi - Lâm thời Chính phủ(3) của nước Việt Nam mới - đại biểu cho toàn dân Việt Nam, tuyên bố thoát li hẳn quan hệ thực dân với Pháp, xoá bỏ hết những hiệp ước mà Pháp đã kí về nước Việt Nam, xoá bỏ tất cả mọi đặc quyền của Pháp trên đất nước Việt Nam.\\n\\nToàn dân Việt Nam, trên dưới một lòng quyết liệt chống lại âm mưu của bọn thực dân Pháp.\\n\\nChúng tôi tin rằng các nước Đồng minh đã công nhận những nguyên tắc dân tộc bình đẳng ở các hội nghị Tê-hê-răng (Teheran)(4) và Cựu Kim Sơn(5), quyết không thể không nhận quyền độc lập của dân Việt Nam(6).\\n\\n(1) Bản in trên báo Cứu quốc, số 36, ngày 5/9/1945 ghi là: \"lập nên nước Việt Nam Cộng hoà Dân chủ\".\\n\\n(2) Tự tư.\\n\\n(3) Lâm thời Chính phủ: tức Chính phủ Lâm thời, được lập ra ngày 25/8/1945 theo đề nghị của Hồ Chí Minh, trên cơ sở cải tổ Uỷ ban Dân tộc giải phóng Việt Nam vốn ra đời trước đó theo quyết định của Quốc dân đại hội Tân Trào họp trong các ngày 16, 17, 18/8/1945.', mimetype='text/plain', start_char_idx=28409, end_char_idx=30081, metadata_seperator='\\n', text_template='{metadata_str}\\n\\n{content}'), score=0.8825873319478419), NodeWithScore(node=TextNode(id_='daeb4a9d-132b-41a3-b54a-0cca7d52288d', embedding=None, metadata={'file_path': '/Users/user/Desktop/Python/rag-book/src/notebooks/../data/grade_11_canh_dieu_ngu_van_2.md', 'file_name': 'grade_11_canh_dieu_ngu_van_2.md', 'file_type': 'text/markdown', 'file_size': 439416, 'creation_date': '2025-07-06', 'last_modified_date': '2025-07-05'}, excluded_embed_metadata_keys=['file_name', 'file_type', 'file_size', 'creation_date', 'last_modified_date', 'last_accessed_date'], excluded_llm_metadata_keys=['file_name', 'file_type', 'file_size', 'creation_date', 'last_modified_date', 'last_accessed_date'], relationships={<NodeRelationship.SOURCE: '1'>: RelatedNodeInfo(node_id='f088fcc6-0d96-44a4-9eed-3672a9ec3a65', node_type='4', metadata={'file_path': '/Users/user/Desktop/Python/rag-book/src/notebooks/../data/grade_11_canh_dieu_ngu_van_2.md', 'file_name': 'grade_11_canh_dieu_ngu_van_2.md', 'file_type': 'text/markdown', 'file_size': 439416, 'creation_date': '2025-07-06', 'last_modified_date': '2025-07-05'}, hash='72280eb9f745b0511abf13efc9b19e855b37c45a3756633115cd2a5d163c5fd8'), <NodeRelationship.PREVIOUS: '2'>: RelatedNodeInfo(node_id='2217e8eb-f896-48b2-a3cf-32ab69e5370f', node_type='1', metadata={'file_path': '/Users/user/Desktop/Python/rag-book/src/notebooks/../data/grade_11_canh_dieu_ngu_van_2.md', 'file_name': 'grade_11_canh_dieu_ngu_van_2.md', 'file_type': 'text/markdown', 'file_size': 439416, 'creation_date': '2025-07-06', 'last_modified_date': '2025-07-05'}, hash='2e1ae9a833776bfb92b114268046f4ae9ab5a9a27efcad91ca9c364e390f1dc7'), <NodeRelationship.NEXT: '3'>: RelatedNodeInfo(node_id='7109cafb-8d7e-4ce1-b5b0-814031aeb39b', node_type='1', metadata={}, hash='1ffb0ece47cee5933d94099cc070a5955b8f2c4f4eb453e9e48fae584462d650')}, metadata_template='{key}: {value}', metadata_separator='\\n', text='Thay vì chăm sóc sức khoẻ cho nhân dân, thực dân Pháp ép dân ta phải tiêu thụ rượu và thuốc phiện,... Số người Pháp (dân sự và quân sự) không đông nhưng họ đã cai trị, bóc lột, đàn áp chúng ta trong tám mươi năm. Thời kì đó, Việt Nam thật là nhỏ bé.\\n\\nNhiều cuộc đấu tranh chống thực dân Pháp đã nổ ra nhưng đều thất bại. Đến năm 1945, cuộc Cách mạng tháng Tám đã khơi dậy tinh thần yêu nước của cả dân tộc, động viên nhân dân ta đứng lên bằng vũ khí thô sơ nhưng với tinh thần \"Quyết tử cho Tổ quốc quyết sinh\", giành lấy chính quyền trong cả nước và thành lập Nhà nước Cách mạng đầu tiên ở Đông Nam châu Á. Sau đó, nhân dân ta phải kháng chiến chín năm chống thực dân Pháp xâm lược và kết thúc bằng Chiến thắng Điện Biên Phủ lẫy lừng, làm lung lay cả hệ thống thực dân thế giới. Việt Nam trở thành ngọn cờ của phong trào giải phóng các dân tộc bị áp bức. Đến cuộc kháng chiến chống đế quốc Mỹ cứu nước kéo dài trong 21 năm\\n\\n142\\n== 145 ==\\n\\n\\nvà kết thúc với thắng lợi vĩ đại 30-4-1975, cả thế giới biết đến Việt Nam. Báo New York Times (của Mỹ) tổng kết rằng từ năm 1960 đến năm 1970, trong 10 năm liền, vấn đề Việt Nam luôn chiếm cột thứ nhất của tờ báo. Nhà văn Sa-ra Lit-men (Sara Lidman) (Thụy Điển) đã nói: \"Việt Nam là lương tri của nhân loại\". Nhà văn Vét-cút (Vercous) (Pháp) đã mong: \"Ước gì ngủ một đêm dậy, tôi là người Việt Nam.\"... Phong trào nhân dân thế giới ủng hộ, đoàn kết với Việt Nam chống quân xâm lược Mỹ là phong trào quốc tế rộng lớn, mạnh mẽ và kéo dài chưa từng thấy trong lịch sử thế giới. Nhân dân ta đã hi sinh rất nhiều. Điều đó, nhân dân ta không hề mong muốn, chúng ta bị bắt buộc phải chiến đấu chống lại cuộc chiến tranh xâm lược và đã giành lại được quyền cơ bản quý giá của dân tộc - độc lập, quyền tự quyết, thống nhất và toàn vẹn lãnh thổ. Thời kì 1945 - 1975 là thời kì Việt Nam thật sự là không nhỏ.\\n\\nCòn ngày nay vị trí của Việt Nam chúng ta đang ở đâu?', mimetype='text/plain', start_char_idx=301611, end_char_idx=303504, metadata_seperator='\\n', text_template='{metadata_str}\\n\\n{content}'), score=0.8800276133725226)], metadata={'992807b6-4201-4fbc-9fc9-eab37d4dfbc7': {'file_path': '/Users/user/Desktop/Python/rag-book/src/notebooks/../data/grade_12_ket_noi_tri_thuc_ngu_van_2.md', 'file_name': 'grade_12_ket_noi_tri_thuc_ngu_van_2.md', 'file_type': 'text/markdown', 'file_size': 402685, 'creation_date': '2025-07-06', 'last_modified_date': '2025-07-05'}, 'daeb4a9d-132b-41a3-b54a-0cca7d52288d': {'file_path': '/Users/user/Desktop/Python/rag-book/src/notebooks/../data/grade_11_canh_dieu_ngu_van_2.md', 'file_name': 'grade_11_canh_dieu_ngu_van_2.md', 'file_type': 'text/markdown', 'file_size': 439416, 'creation_date': '2025-07-06', 'last_modified_date': '2025-07-05'}})"
      ]
     },
     "execution_count": 25,
     "metadata": {},
     "output_type": "execute_result"
    }
   ],
   "source": [
    "# Ask an example question\n",
    "query_engine.query(\"Trong đợt khai thác thuộc địa lần thứ nhất của thực dân Pháp ở nước ta có giai cấp mới nào được hình thành?\")"
   ]
  }
 ],
 "metadata": {
  "kernelspec": {
   "display_name": ".venv",
   "language": "python",
   "name": "python3"
  },
  "language_info": {
   "codemirror_mode": {
    "name": "ipython",
    "version": 3
   },
   "file_extension": ".py",
   "mimetype": "text/x-python",
   "name": "python",
   "nbconvert_exporter": "python",
   "pygments_lexer": "ipython3",
   "version": "3.13.3"
  }
 },
 "nbformat": 4,
 "nbformat_minor": 5
}
